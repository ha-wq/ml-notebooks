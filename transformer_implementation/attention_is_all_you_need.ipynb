{
  "nbformat": 4,
  "nbformat_minor": 0,
  "metadata": {
    "colab": {
      "provenance": [],
      "gpuType": "T4"
    },
    "kernelspec": {
      "name": "python3",
      "display_name": "Python 3"
    },
    "language_info": {
      "name": "python"
    },
    "widgets": {
      "application/vnd.jupyter.widget-state+json": {
        "c899718899cb4d29a3b8288cecee683b": {
          "model_module": "@jupyter-widgets/controls",
          "model_name": "HBoxModel",
          "model_module_version": "1.5.0",
          "state": {
            "_dom_classes": [],
            "_model_module": "@jupyter-widgets/controls",
            "_model_module_version": "1.5.0",
            "_model_name": "HBoxModel",
            "_view_count": null,
            "_view_module": "@jupyter-widgets/controls",
            "_view_module_version": "1.5.0",
            "_view_name": "HBoxView",
            "box_style": "",
            "children": [
              "IPY_MODEL_9bcfe8442df447c380145def2754a351",
              "IPY_MODEL_b11572aec15547abb49f424fd22abf01",
              "IPY_MODEL_7cc878c6a1774eb28be37e5b9a148608"
            ],
            "layout": "IPY_MODEL_739b3226c2224a3684c635bb65273abd"
          }
        },
        "9bcfe8442df447c380145def2754a351": {
          "model_module": "@jupyter-widgets/controls",
          "model_name": "HTMLModel",
          "model_module_version": "1.5.0",
          "state": {
            "_dom_classes": [],
            "_model_module": "@jupyter-widgets/controls",
            "_model_module_version": "1.5.0",
            "_model_name": "HTMLModel",
            "_view_count": null,
            "_view_module": "@jupyter-widgets/controls",
            "_view_module_version": "1.5.0",
            "_view_name": "HTMLView",
            "description": "",
            "description_tooltip": null,
            "layout": "IPY_MODEL_2b9ba59936fb4f1a91291b49577677b6",
            "placeholder": "​",
            "style": "IPY_MODEL_14762727ae074b1aafdcc87412d8ce22",
            "value": "tokenizer_config.json: 100%"
          }
        },
        "b11572aec15547abb49f424fd22abf01": {
          "model_module": "@jupyter-widgets/controls",
          "model_name": "FloatProgressModel",
          "model_module_version": "1.5.0",
          "state": {
            "_dom_classes": [],
            "_model_module": "@jupyter-widgets/controls",
            "_model_module_version": "1.5.0",
            "_model_name": "FloatProgressModel",
            "_view_count": null,
            "_view_module": "@jupyter-widgets/controls",
            "_view_module_version": "1.5.0",
            "_view_name": "ProgressView",
            "bar_style": "success",
            "description": "",
            "description_tooltip": null,
            "layout": "IPY_MODEL_907a75fbd2624915aafca190816b0d1e",
            "max": 26,
            "min": 0,
            "orientation": "horizontal",
            "style": "IPY_MODEL_1582bc3c65794875b7f85bb6e8524c82",
            "value": 26
          }
        },
        "7cc878c6a1774eb28be37e5b9a148608": {
          "model_module": "@jupyter-widgets/controls",
          "model_name": "HTMLModel",
          "model_module_version": "1.5.0",
          "state": {
            "_dom_classes": [],
            "_model_module": "@jupyter-widgets/controls",
            "_model_module_version": "1.5.0",
            "_model_name": "HTMLModel",
            "_view_count": null,
            "_view_module": "@jupyter-widgets/controls",
            "_view_module_version": "1.5.0",
            "_view_name": "HTMLView",
            "description": "",
            "description_tooltip": null,
            "layout": "IPY_MODEL_aada22a22c934c1f9c4f6e5dd777c1b6",
            "placeholder": "​",
            "style": "IPY_MODEL_301a4fe6ff6a486288c1632531f8f710",
            "value": " 26.0/26.0 [00:00&lt;00:00, 1.79kB/s]"
          }
        },
        "739b3226c2224a3684c635bb65273abd": {
          "model_module": "@jupyter-widgets/base",
          "model_name": "LayoutModel",
          "model_module_version": "1.2.0",
          "state": {
            "_model_module": "@jupyter-widgets/base",
            "_model_module_version": "1.2.0",
            "_model_name": "LayoutModel",
            "_view_count": null,
            "_view_module": "@jupyter-widgets/base",
            "_view_module_version": "1.2.0",
            "_view_name": "LayoutView",
            "align_content": null,
            "align_items": null,
            "align_self": null,
            "border": null,
            "bottom": null,
            "display": null,
            "flex": null,
            "flex_flow": null,
            "grid_area": null,
            "grid_auto_columns": null,
            "grid_auto_flow": null,
            "grid_auto_rows": null,
            "grid_column": null,
            "grid_gap": null,
            "grid_row": null,
            "grid_template_areas": null,
            "grid_template_columns": null,
            "grid_template_rows": null,
            "height": null,
            "justify_content": null,
            "justify_items": null,
            "left": null,
            "margin": null,
            "max_height": null,
            "max_width": null,
            "min_height": null,
            "min_width": null,
            "object_fit": null,
            "object_position": null,
            "order": null,
            "overflow": null,
            "overflow_x": null,
            "overflow_y": null,
            "padding": null,
            "right": null,
            "top": null,
            "visibility": null,
            "width": null
          }
        },
        "2b9ba59936fb4f1a91291b49577677b6": {
          "model_module": "@jupyter-widgets/base",
          "model_name": "LayoutModel",
          "model_module_version": "1.2.0",
          "state": {
            "_model_module": "@jupyter-widgets/base",
            "_model_module_version": "1.2.0",
            "_model_name": "LayoutModel",
            "_view_count": null,
            "_view_module": "@jupyter-widgets/base",
            "_view_module_version": "1.2.0",
            "_view_name": "LayoutView",
            "align_content": null,
            "align_items": null,
            "align_self": null,
            "border": null,
            "bottom": null,
            "display": null,
            "flex": null,
            "flex_flow": null,
            "grid_area": null,
            "grid_auto_columns": null,
            "grid_auto_flow": null,
            "grid_auto_rows": null,
            "grid_column": null,
            "grid_gap": null,
            "grid_row": null,
            "grid_template_areas": null,
            "grid_template_columns": null,
            "grid_template_rows": null,
            "height": null,
            "justify_content": null,
            "justify_items": null,
            "left": null,
            "margin": null,
            "max_height": null,
            "max_width": null,
            "min_height": null,
            "min_width": null,
            "object_fit": null,
            "object_position": null,
            "order": null,
            "overflow": null,
            "overflow_x": null,
            "overflow_y": null,
            "padding": null,
            "right": null,
            "top": null,
            "visibility": null,
            "width": null
          }
        },
        "14762727ae074b1aafdcc87412d8ce22": {
          "model_module": "@jupyter-widgets/controls",
          "model_name": "DescriptionStyleModel",
          "model_module_version": "1.5.0",
          "state": {
            "_model_module": "@jupyter-widgets/controls",
            "_model_module_version": "1.5.0",
            "_model_name": "DescriptionStyleModel",
            "_view_count": null,
            "_view_module": "@jupyter-widgets/base",
            "_view_module_version": "1.2.0",
            "_view_name": "StyleView",
            "description_width": ""
          }
        },
        "907a75fbd2624915aafca190816b0d1e": {
          "model_module": "@jupyter-widgets/base",
          "model_name": "LayoutModel",
          "model_module_version": "1.2.0",
          "state": {
            "_model_module": "@jupyter-widgets/base",
            "_model_module_version": "1.2.0",
            "_model_name": "LayoutModel",
            "_view_count": null,
            "_view_module": "@jupyter-widgets/base",
            "_view_module_version": "1.2.0",
            "_view_name": "LayoutView",
            "align_content": null,
            "align_items": null,
            "align_self": null,
            "border": null,
            "bottom": null,
            "display": null,
            "flex": null,
            "flex_flow": null,
            "grid_area": null,
            "grid_auto_columns": null,
            "grid_auto_flow": null,
            "grid_auto_rows": null,
            "grid_column": null,
            "grid_gap": null,
            "grid_row": null,
            "grid_template_areas": null,
            "grid_template_columns": null,
            "grid_template_rows": null,
            "height": null,
            "justify_content": null,
            "justify_items": null,
            "left": null,
            "margin": null,
            "max_height": null,
            "max_width": null,
            "min_height": null,
            "min_width": null,
            "object_fit": null,
            "object_position": null,
            "order": null,
            "overflow": null,
            "overflow_x": null,
            "overflow_y": null,
            "padding": null,
            "right": null,
            "top": null,
            "visibility": null,
            "width": null
          }
        },
        "1582bc3c65794875b7f85bb6e8524c82": {
          "model_module": "@jupyter-widgets/controls",
          "model_name": "ProgressStyleModel",
          "model_module_version": "1.5.0",
          "state": {
            "_model_module": "@jupyter-widgets/controls",
            "_model_module_version": "1.5.0",
            "_model_name": "ProgressStyleModel",
            "_view_count": null,
            "_view_module": "@jupyter-widgets/base",
            "_view_module_version": "1.2.0",
            "_view_name": "StyleView",
            "bar_color": null,
            "description_width": ""
          }
        },
        "aada22a22c934c1f9c4f6e5dd777c1b6": {
          "model_module": "@jupyter-widgets/base",
          "model_name": "LayoutModel",
          "model_module_version": "1.2.0",
          "state": {
            "_model_module": "@jupyter-widgets/base",
            "_model_module_version": "1.2.0",
            "_model_name": "LayoutModel",
            "_view_count": null,
            "_view_module": "@jupyter-widgets/base",
            "_view_module_version": "1.2.0",
            "_view_name": "LayoutView",
            "align_content": null,
            "align_items": null,
            "align_self": null,
            "border": null,
            "bottom": null,
            "display": null,
            "flex": null,
            "flex_flow": null,
            "grid_area": null,
            "grid_auto_columns": null,
            "grid_auto_flow": null,
            "grid_auto_rows": null,
            "grid_column": null,
            "grid_gap": null,
            "grid_row": null,
            "grid_template_areas": null,
            "grid_template_columns": null,
            "grid_template_rows": null,
            "height": null,
            "justify_content": null,
            "justify_items": null,
            "left": null,
            "margin": null,
            "max_height": null,
            "max_width": null,
            "min_height": null,
            "min_width": null,
            "object_fit": null,
            "object_position": null,
            "order": null,
            "overflow": null,
            "overflow_x": null,
            "overflow_y": null,
            "padding": null,
            "right": null,
            "top": null,
            "visibility": null,
            "width": null
          }
        },
        "301a4fe6ff6a486288c1632531f8f710": {
          "model_module": "@jupyter-widgets/controls",
          "model_name": "DescriptionStyleModel",
          "model_module_version": "1.5.0",
          "state": {
            "_model_module": "@jupyter-widgets/controls",
            "_model_module_version": "1.5.0",
            "_model_name": "DescriptionStyleModel",
            "_view_count": null,
            "_view_module": "@jupyter-widgets/base",
            "_view_module_version": "1.2.0",
            "_view_name": "StyleView",
            "description_width": ""
          }
        },
        "c9da082b40024f6ca615b14bea89f910": {
          "model_module": "@jupyter-widgets/controls",
          "model_name": "HBoxModel",
          "model_module_version": "1.5.0",
          "state": {
            "_dom_classes": [],
            "_model_module": "@jupyter-widgets/controls",
            "_model_module_version": "1.5.0",
            "_model_name": "HBoxModel",
            "_view_count": null,
            "_view_module": "@jupyter-widgets/controls",
            "_view_module_version": "1.5.0",
            "_view_name": "HBoxView",
            "box_style": "",
            "children": [
              "IPY_MODEL_0408659ae04544d28a8c6fbb8f8fa99c",
              "IPY_MODEL_4bc41d5a0a384764b40c82243eb5186d",
              "IPY_MODEL_944d4296f37844fea622be60a9e19def"
            ],
            "layout": "IPY_MODEL_df68fdf8848b4ee2adac89e9185e52ca"
          }
        },
        "0408659ae04544d28a8c6fbb8f8fa99c": {
          "model_module": "@jupyter-widgets/controls",
          "model_name": "HTMLModel",
          "model_module_version": "1.5.0",
          "state": {
            "_dom_classes": [],
            "_model_module": "@jupyter-widgets/controls",
            "_model_module_version": "1.5.0",
            "_model_name": "HTMLModel",
            "_view_count": null,
            "_view_module": "@jupyter-widgets/controls",
            "_view_module_version": "1.5.0",
            "_view_name": "HTMLView",
            "description": "",
            "description_tooltip": null,
            "layout": "IPY_MODEL_2edb14f7bef74212bab8f7135ceefa61",
            "placeholder": "​",
            "style": "IPY_MODEL_3e9977c25fde4196b37b2b0c3a688524",
            "value": "config.json: 100%"
          }
        },
        "4bc41d5a0a384764b40c82243eb5186d": {
          "model_module": "@jupyter-widgets/controls",
          "model_name": "FloatProgressModel",
          "model_module_version": "1.5.0",
          "state": {
            "_dom_classes": [],
            "_model_module": "@jupyter-widgets/controls",
            "_model_module_version": "1.5.0",
            "_model_name": "FloatProgressModel",
            "_view_count": null,
            "_view_module": "@jupyter-widgets/controls",
            "_view_module_version": "1.5.0",
            "_view_name": "ProgressView",
            "bar_style": "success",
            "description": "",
            "description_tooltip": null,
            "layout": "IPY_MODEL_b8cb5cbe8837421ba80b03ee4c54d9e3",
            "max": 665,
            "min": 0,
            "orientation": "horizontal",
            "style": "IPY_MODEL_4a530b32d77647638859fba7281bc3a3",
            "value": 665
          }
        },
        "944d4296f37844fea622be60a9e19def": {
          "model_module": "@jupyter-widgets/controls",
          "model_name": "HTMLModel",
          "model_module_version": "1.5.0",
          "state": {
            "_dom_classes": [],
            "_model_module": "@jupyter-widgets/controls",
            "_model_module_version": "1.5.0",
            "_model_name": "HTMLModel",
            "_view_count": null,
            "_view_module": "@jupyter-widgets/controls",
            "_view_module_version": "1.5.0",
            "_view_name": "HTMLView",
            "description": "",
            "description_tooltip": null,
            "layout": "IPY_MODEL_7749e9f1abf5419297fc04b381301dfa",
            "placeholder": "​",
            "style": "IPY_MODEL_bc6d94a0fdaf422a84e1ee8f60833473",
            "value": " 665/665 [00:00&lt;00:00, 59.8kB/s]"
          }
        },
        "df68fdf8848b4ee2adac89e9185e52ca": {
          "model_module": "@jupyter-widgets/base",
          "model_name": "LayoutModel",
          "model_module_version": "1.2.0",
          "state": {
            "_model_module": "@jupyter-widgets/base",
            "_model_module_version": "1.2.0",
            "_model_name": "LayoutModel",
            "_view_count": null,
            "_view_module": "@jupyter-widgets/base",
            "_view_module_version": "1.2.0",
            "_view_name": "LayoutView",
            "align_content": null,
            "align_items": null,
            "align_self": null,
            "border": null,
            "bottom": null,
            "display": null,
            "flex": null,
            "flex_flow": null,
            "grid_area": null,
            "grid_auto_columns": null,
            "grid_auto_flow": null,
            "grid_auto_rows": null,
            "grid_column": null,
            "grid_gap": null,
            "grid_row": null,
            "grid_template_areas": null,
            "grid_template_columns": null,
            "grid_template_rows": null,
            "height": null,
            "justify_content": null,
            "justify_items": null,
            "left": null,
            "margin": null,
            "max_height": null,
            "max_width": null,
            "min_height": null,
            "min_width": null,
            "object_fit": null,
            "object_position": null,
            "order": null,
            "overflow": null,
            "overflow_x": null,
            "overflow_y": null,
            "padding": null,
            "right": null,
            "top": null,
            "visibility": null,
            "width": null
          }
        },
        "2edb14f7bef74212bab8f7135ceefa61": {
          "model_module": "@jupyter-widgets/base",
          "model_name": "LayoutModel",
          "model_module_version": "1.2.0",
          "state": {
            "_model_module": "@jupyter-widgets/base",
            "_model_module_version": "1.2.0",
            "_model_name": "LayoutModel",
            "_view_count": null,
            "_view_module": "@jupyter-widgets/base",
            "_view_module_version": "1.2.0",
            "_view_name": "LayoutView",
            "align_content": null,
            "align_items": null,
            "align_self": null,
            "border": null,
            "bottom": null,
            "display": null,
            "flex": null,
            "flex_flow": null,
            "grid_area": null,
            "grid_auto_columns": null,
            "grid_auto_flow": null,
            "grid_auto_rows": null,
            "grid_column": null,
            "grid_gap": null,
            "grid_row": null,
            "grid_template_areas": null,
            "grid_template_columns": null,
            "grid_template_rows": null,
            "height": null,
            "justify_content": null,
            "justify_items": null,
            "left": null,
            "margin": null,
            "max_height": null,
            "max_width": null,
            "min_height": null,
            "min_width": null,
            "object_fit": null,
            "object_position": null,
            "order": null,
            "overflow": null,
            "overflow_x": null,
            "overflow_y": null,
            "padding": null,
            "right": null,
            "top": null,
            "visibility": null,
            "width": null
          }
        },
        "3e9977c25fde4196b37b2b0c3a688524": {
          "model_module": "@jupyter-widgets/controls",
          "model_name": "DescriptionStyleModel",
          "model_module_version": "1.5.0",
          "state": {
            "_model_module": "@jupyter-widgets/controls",
            "_model_module_version": "1.5.0",
            "_model_name": "DescriptionStyleModel",
            "_view_count": null,
            "_view_module": "@jupyter-widgets/base",
            "_view_module_version": "1.2.0",
            "_view_name": "StyleView",
            "description_width": ""
          }
        },
        "b8cb5cbe8837421ba80b03ee4c54d9e3": {
          "model_module": "@jupyter-widgets/base",
          "model_name": "LayoutModel",
          "model_module_version": "1.2.0",
          "state": {
            "_model_module": "@jupyter-widgets/base",
            "_model_module_version": "1.2.0",
            "_model_name": "LayoutModel",
            "_view_count": null,
            "_view_module": "@jupyter-widgets/base",
            "_view_module_version": "1.2.0",
            "_view_name": "LayoutView",
            "align_content": null,
            "align_items": null,
            "align_self": null,
            "border": null,
            "bottom": null,
            "display": null,
            "flex": null,
            "flex_flow": null,
            "grid_area": null,
            "grid_auto_columns": null,
            "grid_auto_flow": null,
            "grid_auto_rows": null,
            "grid_column": null,
            "grid_gap": null,
            "grid_row": null,
            "grid_template_areas": null,
            "grid_template_columns": null,
            "grid_template_rows": null,
            "height": null,
            "justify_content": null,
            "justify_items": null,
            "left": null,
            "margin": null,
            "max_height": null,
            "max_width": null,
            "min_height": null,
            "min_width": null,
            "object_fit": null,
            "object_position": null,
            "order": null,
            "overflow": null,
            "overflow_x": null,
            "overflow_y": null,
            "padding": null,
            "right": null,
            "top": null,
            "visibility": null,
            "width": null
          }
        },
        "4a530b32d77647638859fba7281bc3a3": {
          "model_module": "@jupyter-widgets/controls",
          "model_name": "ProgressStyleModel",
          "model_module_version": "1.5.0",
          "state": {
            "_model_module": "@jupyter-widgets/controls",
            "_model_module_version": "1.5.0",
            "_model_name": "ProgressStyleModel",
            "_view_count": null,
            "_view_module": "@jupyter-widgets/base",
            "_view_module_version": "1.2.0",
            "_view_name": "StyleView",
            "bar_color": null,
            "description_width": ""
          }
        },
        "7749e9f1abf5419297fc04b381301dfa": {
          "model_module": "@jupyter-widgets/base",
          "model_name": "LayoutModel",
          "model_module_version": "1.2.0",
          "state": {
            "_model_module": "@jupyter-widgets/base",
            "_model_module_version": "1.2.0",
            "_model_name": "LayoutModel",
            "_view_count": null,
            "_view_module": "@jupyter-widgets/base",
            "_view_module_version": "1.2.0",
            "_view_name": "LayoutView",
            "align_content": null,
            "align_items": null,
            "align_self": null,
            "border": null,
            "bottom": null,
            "display": null,
            "flex": null,
            "flex_flow": null,
            "grid_area": null,
            "grid_auto_columns": null,
            "grid_auto_flow": null,
            "grid_auto_rows": null,
            "grid_column": null,
            "grid_gap": null,
            "grid_row": null,
            "grid_template_areas": null,
            "grid_template_columns": null,
            "grid_template_rows": null,
            "height": null,
            "justify_content": null,
            "justify_items": null,
            "left": null,
            "margin": null,
            "max_height": null,
            "max_width": null,
            "min_height": null,
            "min_width": null,
            "object_fit": null,
            "object_position": null,
            "order": null,
            "overflow": null,
            "overflow_x": null,
            "overflow_y": null,
            "padding": null,
            "right": null,
            "top": null,
            "visibility": null,
            "width": null
          }
        },
        "bc6d94a0fdaf422a84e1ee8f60833473": {
          "model_module": "@jupyter-widgets/controls",
          "model_name": "DescriptionStyleModel",
          "model_module_version": "1.5.0",
          "state": {
            "_model_module": "@jupyter-widgets/controls",
            "_model_module_version": "1.5.0",
            "_model_name": "DescriptionStyleModel",
            "_view_count": null,
            "_view_module": "@jupyter-widgets/base",
            "_view_module_version": "1.2.0",
            "_view_name": "StyleView",
            "description_width": ""
          }
        },
        "5b2ee0f7dda2430f8d6e19823645a08a": {
          "model_module": "@jupyter-widgets/controls",
          "model_name": "HBoxModel",
          "model_module_version": "1.5.0",
          "state": {
            "_dom_classes": [],
            "_model_module": "@jupyter-widgets/controls",
            "_model_module_version": "1.5.0",
            "_model_name": "HBoxModel",
            "_view_count": null,
            "_view_module": "@jupyter-widgets/controls",
            "_view_module_version": "1.5.0",
            "_view_name": "HBoxView",
            "box_style": "",
            "children": [
              "IPY_MODEL_cbdb5c933e6d44f9b1806a60986cb089",
              "IPY_MODEL_344ddd9b4a8243ab9b044d2438e018a0",
              "IPY_MODEL_871dc7fff0824df6adb92ed4a3ea02ee"
            ],
            "layout": "IPY_MODEL_8db965994e5c4002a51711c60111966e"
          }
        },
        "cbdb5c933e6d44f9b1806a60986cb089": {
          "model_module": "@jupyter-widgets/controls",
          "model_name": "HTMLModel",
          "model_module_version": "1.5.0",
          "state": {
            "_dom_classes": [],
            "_model_module": "@jupyter-widgets/controls",
            "_model_module_version": "1.5.0",
            "_model_name": "HTMLModel",
            "_view_count": null,
            "_view_module": "@jupyter-widgets/controls",
            "_view_module_version": "1.5.0",
            "_view_name": "HTMLView",
            "description": "",
            "description_tooltip": null,
            "layout": "IPY_MODEL_01cecad7af604a43ac521828c2ae6db8",
            "placeholder": "​",
            "style": "IPY_MODEL_ef5933643ad34a4299c26e70f573552c",
            "value": "vocab.json: 100%"
          }
        },
        "344ddd9b4a8243ab9b044d2438e018a0": {
          "model_module": "@jupyter-widgets/controls",
          "model_name": "FloatProgressModel",
          "model_module_version": "1.5.0",
          "state": {
            "_dom_classes": [],
            "_model_module": "@jupyter-widgets/controls",
            "_model_module_version": "1.5.0",
            "_model_name": "FloatProgressModel",
            "_view_count": null,
            "_view_module": "@jupyter-widgets/controls",
            "_view_module_version": "1.5.0",
            "_view_name": "ProgressView",
            "bar_style": "success",
            "description": "",
            "description_tooltip": null,
            "layout": "IPY_MODEL_38248bc17231484ba9d5320959b7dc1a",
            "max": 1042301,
            "min": 0,
            "orientation": "horizontal",
            "style": "IPY_MODEL_8b798ce6325747439f620d376b667da3",
            "value": 1042301
          }
        },
        "871dc7fff0824df6adb92ed4a3ea02ee": {
          "model_module": "@jupyter-widgets/controls",
          "model_name": "HTMLModel",
          "model_module_version": "1.5.0",
          "state": {
            "_dom_classes": [],
            "_model_module": "@jupyter-widgets/controls",
            "_model_module_version": "1.5.0",
            "_model_name": "HTMLModel",
            "_view_count": null,
            "_view_module": "@jupyter-widgets/controls",
            "_view_module_version": "1.5.0",
            "_view_name": "HTMLView",
            "description": "",
            "description_tooltip": null,
            "layout": "IPY_MODEL_62034f9fcd3540d1a4688a5c85d2a5c3",
            "placeholder": "​",
            "style": "IPY_MODEL_13de7ae847444e2384f70f6bda5f1d58",
            "value": " 1.04M/1.04M [00:00&lt;00:00, 10.4MB/s]"
          }
        },
        "8db965994e5c4002a51711c60111966e": {
          "model_module": "@jupyter-widgets/base",
          "model_name": "LayoutModel",
          "model_module_version": "1.2.0",
          "state": {
            "_model_module": "@jupyter-widgets/base",
            "_model_module_version": "1.2.0",
            "_model_name": "LayoutModel",
            "_view_count": null,
            "_view_module": "@jupyter-widgets/base",
            "_view_module_version": "1.2.0",
            "_view_name": "LayoutView",
            "align_content": null,
            "align_items": null,
            "align_self": null,
            "border": null,
            "bottom": null,
            "display": null,
            "flex": null,
            "flex_flow": null,
            "grid_area": null,
            "grid_auto_columns": null,
            "grid_auto_flow": null,
            "grid_auto_rows": null,
            "grid_column": null,
            "grid_gap": null,
            "grid_row": null,
            "grid_template_areas": null,
            "grid_template_columns": null,
            "grid_template_rows": null,
            "height": null,
            "justify_content": null,
            "justify_items": null,
            "left": null,
            "margin": null,
            "max_height": null,
            "max_width": null,
            "min_height": null,
            "min_width": null,
            "object_fit": null,
            "object_position": null,
            "order": null,
            "overflow": null,
            "overflow_x": null,
            "overflow_y": null,
            "padding": null,
            "right": null,
            "top": null,
            "visibility": null,
            "width": null
          }
        },
        "01cecad7af604a43ac521828c2ae6db8": {
          "model_module": "@jupyter-widgets/base",
          "model_name": "LayoutModel",
          "model_module_version": "1.2.0",
          "state": {
            "_model_module": "@jupyter-widgets/base",
            "_model_module_version": "1.2.0",
            "_model_name": "LayoutModel",
            "_view_count": null,
            "_view_module": "@jupyter-widgets/base",
            "_view_module_version": "1.2.0",
            "_view_name": "LayoutView",
            "align_content": null,
            "align_items": null,
            "align_self": null,
            "border": null,
            "bottom": null,
            "display": null,
            "flex": null,
            "flex_flow": null,
            "grid_area": null,
            "grid_auto_columns": null,
            "grid_auto_flow": null,
            "grid_auto_rows": null,
            "grid_column": null,
            "grid_gap": null,
            "grid_row": null,
            "grid_template_areas": null,
            "grid_template_columns": null,
            "grid_template_rows": null,
            "height": null,
            "justify_content": null,
            "justify_items": null,
            "left": null,
            "margin": null,
            "max_height": null,
            "max_width": null,
            "min_height": null,
            "min_width": null,
            "object_fit": null,
            "object_position": null,
            "order": null,
            "overflow": null,
            "overflow_x": null,
            "overflow_y": null,
            "padding": null,
            "right": null,
            "top": null,
            "visibility": null,
            "width": null
          }
        },
        "ef5933643ad34a4299c26e70f573552c": {
          "model_module": "@jupyter-widgets/controls",
          "model_name": "DescriptionStyleModel",
          "model_module_version": "1.5.0",
          "state": {
            "_model_module": "@jupyter-widgets/controls",
            "_model_module_version": "1.5.0",
            "_model_name": "DescriptionStyleModel",
            "_view_count": null,
            "_view_module": "@jupyter-widgets/base",
            "_view_module_version": "1.2.0",
            "_view_name": "StyleView",
            "description_width": ""
          }
        },
        "38248bc17231484ba9d5320959b7dc1a": {
          "model_module": "@jupyter-widgets/base",
          "model_name": "LayoutModel",
          "model_module_version": "1.2.0",
          "state": {
            "_model_module": "@jupyter-widgets/base",
            "_model_module_version": "1.2.0",
            "_model_name": "LayoutModel",
            "_view_count": null,
            "_view_module": "@jupyter-widgets/base",
            "_view_module_version": "1.2.0",
            "_view_name": "LayoutView",
            "align_content": null,
            "align_items": null,
            "align_self": null,
            "border": null,
            "bottom": null,
            "display": null,
            "flex": null,
            "flex_flow": null,
            "grid_area": null,
            "grid_auto_columns": null,
            "grid_auto_flow": null,
            "grid_auto_rows": null,
            "grid_column": null,
            "grid_gap": null,
            "grid_row": null,
            "grid_template_areas": null,
            "grid_template_columns": null,
            "grid_template_rows": null,
            "height": null,
            "justify_content": null,
            "justify_items": null,
            "left": null,
            "margin": null,
            "max_height": null,
            "max_width": null,
            "min_height": null,
            "min_width": null,
            "object_fit": null,
            "object_position": null,
            "order": null,
            "overflow": null,
            "overflow_x": null,
            "overflow_y": null,
            "padding": null,
            "right": null,
            "top": null,
            "visibility": null,
            "width": null
          }
        },
        "8b798ce6325747439f620d376b667da3": {
          "model_module": "@jupyter-widgets/controls",
          "model_name": "ProgressStyleModel",
          "model_module_version": "1.5.0",
          "state": {
            "_model_module": "@jupyter-widgets/controls",
            "_model_module_version": "1.5.0",
            "_model_name": "ProgressStyleModel",
            "_view_count": null,
            "_view_module": "@jupyter-widgets/base",
            "_view_module_version": "1.2.0",
            "_view_name": "StyleView",
            "bar_color": null,
            "description_width": ""
          }
        },
        "62034f9fcd3540d1a4688a5c85d2a5c3": {
          "model_module": "@jupyter-widgets/base",
          "model_name": "LayoutModel",
          "model_module_version": "1.2.0",
          "state": {
            "_model_module": "@jupyter-widgets/base",
            "_model_module_version": "1.2.0",
            "_model_name": "LayoutModel",
            "_view_count": null,
            "_view_module": "@jupyter-widgets/base",
            "_view_module_version": "1.2.0",
            "_view_name": "LayoutView",
            "align_content": null,
            "align_items": null,
            "align_self": null,
            "border": null,
            "bottom": null,
            "display": null,
            "flex": null,
            "flex_flow": null,
            "grid_area": null,
            "grid_auto_columns": null,
            "grid_auto_flow": null,
            "grid_auto_rows": null,
            "grid_column": null,
            "grid_gap": null,
            "grid_row": null,
            "grid_template_areas": null,
            "grid_template_columns": null,
            "grid_template_rows": null,
            "height": null,
            "justify_content": null,
            "justify_items": null,
            "left": null,
            "margin": null,
            "max_height": null,
            "max_width": null,
            "min_height": null,
            "min_width": null,
            "object_fit": null,
            "object_position": null,
            "order": null,
            "overflow": null,
            "overflow_x": null,
            "overflow_y": null,
            "padding": null,
            "right": null,
            "top": null,
            "visibility": null,
            "width": null
          }
        },
        "13de7ae847444e2384f70f6bda5f1d58": {
          "model_module": "@jupyter-widgets/controls",
          "model_name": "DescriptionStyleModel",
          "model_module_version": "1.5.0",
          "state": {
            "_model_module": "@jupyter-widgets/controls",
            "_model_module_version": "1.5.0",
            "_model_name": "DescriptionStyleModel",
            "_view_count": null,
            "_view_module": "@jupyter-widgets/base",
            "_view_module_version": "1.2.0",
            "_view_name": "StyleView",
            "description_width": ""
          }
        },
        "1a73b76be5444a3b9c3c15b3b678905d": {
          "model_module": "@jupyter-widgets/controls",
          "model_name": "HBoxModel",
          "model_module_version": "1.5.0",
          "state": {
            "_dom_classes": [],
            "_model_module": "@jupyter-widgets/controls",
            "_model_module_version": "1.5.0",
            "_model_name": "HBoxModel",
            "_view_count": null,
            "_view_module": "@jupyter-widgets/controls",
            "_view_module_version": "1.5.0",
            "_view_name": "HBoxView",
            "box_style": "",
            "children": [
              "IPY_MODEL_88fcde87fc9d43ca984b74a02cd6756c",
              "IPY_MODEL_ace59078293e40968132af9292cbc915",
              "IPY_MODEL_0973a52c78244328b8166695165df311"
            ],
            "layout": "IPY_MODEL_b9878454276f4bee967f70dc4dce0c74"
          }
        },
        "88fcde87fc9d43ca984b74a02cd6756c": {
          "model_module": "@jupyter-widgets/controls",
          "model_name": "HTMLModel",
          "model_module_version": "1.5.0",
          "state": {
            "_dom_classes": [],
            "_model_module": "@jupyter-widgets/controls",
            "_model_module_version": "1.5.0",
            "_model_name": "HTMLModel",
            "_view_count": null,
            "_view_module": "@jupyter-widgets/controls",
            "_view_module_version": "1.5.0",
            "_view_name": "HTMLView",
            "description": "",
            "description_tooltip": null,
            "layout": "IPY_MODEL_e2e9ed7d7fdc488a9ace3fbbd5b1b59c",
            "placeholder": "​",
            "style": "IPY_MODEL_0b2bcdac851448b3883ccfc2816e9273",
            "value": "merges.txt: 100%"
          }
        },
        "ace59078293e40968132af9292cbc915": {
          "model_module": "@jupyter-widgets/controls",
          "model_name": "FloatProgressModel",
          "model_module_version": "1.5.0",
          "state": {
            "_dom_classes": [],
            "_model_module": "@jupyter-widgets/controls",
            "_model_module_version": "1.5.0",
            "_model_name": "FloatProgressModel",
            "_view_count": null,
            "_view_module": "@jupyter-widgets/controls",
            "_view_module_version": "1.5.0",
            "_view_name": "ProgressView",
            "bar_style": "success",
            "description": "",
            "description_tooltip": null,
            "layout": "IPY_MODEL_7e74c28029e34169b62d5b6c625cddb3",
            "max": 456318,
            "min": 0,
            "orientation": "horizontal",
            "style": "IPY_MODEL_7bfd58e97f6f4e8ea394273c86830c9a",
            "value": 456318
          }
        },
        "0973a52c78244328b8166695165df311": {
          "model_module": "@jupyter-widgets/controls",
          "model_name": "HTMLModel",
          "model_module_version": "1.5.0",
          "state": {
            "_dom_classes": [],
            "_model_module": "@jupyter-widgets/controls",
            "_model_module_version": "1.5.0",
            "_model_name": "HTMLModel",
            "_view_count": null,
            "_view_module": "@jupyter-widgets/controls",
            "_view_module_version": "1.5.0",
            "_view_name": "HTMLView",
            "description": "",
            "description_tooltip": null,
            "layout": "IPY_MODEL_212c966890034201be7766217201e0a9",
            "placeholder": "​",
            "style": "IPY_MODEL_144eeb138b4240a99035e503b7d4f0ca",
            "value": " 456k/456k [00:00&lt;00:00, 3.81MB/s]"
          }
        },
        "b9878454276f4bee967f70dc4dce0c74": {
          "model_module": "@jupyter-widgets/base",
          "model_name": "LayoutModel",
          "model_module_version": "1.2.0",
          "state": {
            "_model_module": "@jupyter-widgets/base",
            "_model_module_version": "1.2.0",
            "_model_name": "LayoutModel",
            "_view_count": null,
            "_view_module": "@jupyter-widgets/base",
            "_view_module_version": "1.2.0",
            "_view_name": "LayoutView",
            "align_content": null,
            "align_items": null,
            "align_self": null,
            "border": null,
            "bottom": null,
            "display": null,
            "flex": null,
            "flex_flow": null,
            "grid_area": null,
            "grid_auto_columns": null,
            "grid_auto_flow": null,
            "grid_auto_rows": null,
            "grid_column": null,
            "grid_gap": null,
            "grid_row": null,
            "grid_template_areas": null,
            "grid_template_columns": null,
            "grid_template_rows": null,
            "height": null,
            "justify_content": null,
            "justify_items": null,
            "left": null,
            "margin": null,
            "max_height": null,
            "max_width": null,
            "min_height": null,
            "min_width": null,
            "object_fit": null,
            "object_position": null,
            "order": null,
            "overflow": null,
            "overflow_x": null,
            "overflow_y": null,
            "padding": null,
            "right": null,
            "top": null,
            "visibility": null,
            "width": null
          }
        },
        "e2e9ed7d7fdc488a9ace3fbbd5b1b59c": {
          "model_module": "@jupyter-widgets/base",
          "model_name": "LayoutModel",
          "model_module_version": "1.2.0",
          "state": {
            "_model_module": "@jupyter-widgets/base",
            "_model_module_version": "1.2.0",
            "_model_name": "LayoutModel",
            "_view_count": null,
            "_view_module": "@jupyter-widgets/base",
            "_view_module_version": "1.2.0",
            "_view_name": "LayoutView",
            "align_content": null,
            "align_items": null,
            "align_self": null,
            "border": null,
            "bottom": null,
            "display": null,
            "flex": null,
            "flex_flow": null,
            "grid_area": null,
            "grid_auto_columns": null,
            "grid_auto_flow": null,
            "grid_auto_rows": null,
            "grid_column": null,
            "grid_gap": null,
            "grid_row": null,
            "grid_template_areas": null,
            "grid_template_columns": null,
            "grid_template_rows": null,
            "height": null,
            "justify_content": null,
            "justify_items": null,
            "left": null,
            "margin": null,
            "max_height": null,
            "max_width": null,
            "min_height": null,
            "min_width": null,
            "object_fit": null,
            "object_position": null,
            "order": null,
            "overflow": null,
            "overflow_x": null,
            "overflow_y": null,
            "padding": null,
            "right": null,
            "top": null,
            "visibility": null,
            "width": null
          }
        },
        "0b2bcdac851448b3883ccfc2816e9273": {
          "model_module": "@jupyter-widgets/controls",
          "model_name": "DescriptionStyleModel",
          "model_module_version": "1.5.0",
          "state": {
            "_model_module": "@jupyter-widgets/controls",
            "_model_module_version": "1.5.0",
            "_model_name": "DescriptionStyleModel",
            "_view_count": null,
            "_view_module": "@jupyter-widgets/base",
            "_view_module_version": "1.2.0",
            "_view_name": "StyleView",
            "description_width": ""
          }
        },
        "7e74c28029e34169b62d5b6c625cddb3": {
          "model_module": "@jupyter-widgets/base",
          "model_name": "LayoutModel",
          "model_module_version": "1.2.0",
          "state": {
            "_model_module": "@jupyter-widgets/base",
            "_model_module_version": "1.2.0",
            "_model_name": "LayoutModel",
            "_view_count": null,
            "_view_module": "@jupyter-widgets/base",
            "_view_module_version": "1.2.0",
            "_view_name": "LayoutView",
            "align_content": null,
            "align_items": null,
            "align_self": null,
            "border": null,
            "bottom": null,
            "display": null,
            "flex": null,
            "flex_flow": null,
            "grid_area": null,
            "grid_auto_columns": null,
            "grid_auto_flow": null,
            "grid_auto_rows": null,
            "grid_column": null,
            "grid_gap": null,
            "grid_row": null,
            "grid_template_areas": null,
            "grid_template_columns": null,
            "grid_template_rows": null,
            "height": null,
            "justify_content": null,
            "justify_items": null,
            "left": null,
            "margin": null,
            "max_height": null,
            "max_width": null,
            "min_height": null,
            "min_width": null,
            "object_fit": null,
            "object_position": null,
            "order": null,
            "overflow": null,
            "overflow_x": null,
            "overflow_y": null,
            "padding": null,
            "right": null,
            "top": null,
            "visibility": null,
            "width": null
          }
        },
        "7bfd58e97f6f4e8ea394273c86830c9a": {
          "model_module": "@jupyter-widgets/controls",
          "model_name": "ProgressStyleModel",
          "model_module_version": "1.5.0",
          "state": {
            "_model_module": "@jupyter-widgets/controls",
            "_model_module_version": "1.5.0",
            "_model_name": "ProgressStyleModel",
            "_view_count": null,
            "_view_module": "@jupyter-widgets/base",
            "_view_module_version": "1.2.0",
            "_view_name": "StyleView",
            "bar_color": null,
            "description_width": ""
          }
        },
        "212c966890034201be7766217201e0a9": {
          "model_module": "@jupyter-widgets/base",
          "model_name": "LayoutModel",
          "model_module_version": "1.2.0",
          "state": {
            "_model_module": "@jupyter-widgets/base",
            "_model_module_version": "1.2.0",
            "_model_name": "LayoutModel",
            "_view_count": null,
            "_view_module": "@jupyter-widgets/base",
            "_view_module_version": "1.2.0",
            "_view_name": "LayoutView",
            "align_content": null,
            "align_items": null,
            "align_self": null,
            "border": null,
            "bottom": null,
            "display": null,
            "flex": null,
            "flex_flow": null,
            "grid_area": null,
            "grid_auto_columns": null,
            "grid_auto_flow": null,
            "grid_auto_rows": null,
            "grid_column": null,
            "grid_gap": null,
            "grid_row": null,
            "grid_template_areas": null,
            "grid_template_columns": null,
            "grid_template_rows": null,
            "height": null,
            "justify_content": null,
            "justify_items": null,
            "left": null,
            "margin": null,
            "max_height": null,
            "max_width": null,
            "min_height": null,
            "min_width": null,
            "object_fit": null,
            "object_position": null,
            "order": null,
            "overflow": null,
            "overflow_x": null,
            "overflow_y": null,
            "padding": null,
            "right": null,
            "top": null,
            "visibility": null,
            "width": null
          }
        },
        "144eeb138b4240a99035e503b7d4f0ca": {
          "model_module": "@jupyter-widgets/controls",
          "model_name": "DescriptionStyleModel",
          "model_module_version": "1.5.0",
          "state": {
            "_model_module": "@jupyter-widgets/controls",
            "_model_module_version": "1.5.0",
            "_model_name": "DescriptionStyleModel",
            "_view_count": null,
            "_view_module": "@jupyter-widgets/base",
            "_view_module_version": "1.2.0",
            "_view_name": "StyleView",
            "description_width": ""
          }
        },
        "8dee0ed322ea4c02bb775089541ef184": {
          "model_module": "@jupyter-widgets/controls",
          "model_name": "HBoxModel",
          "model_module_version": "1.5.0",
          "state": {
            "_dom_classes": [],
            "_model_module": "@jupyter-widgets/controls",
            "_model_module_version": "1.5.0",
            "_model_name": "HBoxModel",
            "_view_count": null,
            "_view_module": "@jupyter-widgets/controls",
            "_view_module_version": "1.5.0",
            "_view_name": "HBoxView",
            "box_style": "",
            "children": [
              "IPY_MODEL_8ba6135b28ad4093910cf1e825740be1",
              "IPY_MODEL_900a845ace0e4dd69ef94d26e9849efe",
              "IPY_MODEL_bd3882573efe40509fd540269048a3ce"
            ],
            "layout": "IPY_MODEL_5da3c2b9a4e74d9e8c51268071e8b8cb"
          }
        },
        "8ba6135b28ad4093910cf1e825740be1": {
          "model_module": "@jupyter-widgets/controls",
          "model_name": "HTMLModel",
          "model_module_version": "1.5.0",
          "state": {
            "_dom_classes": [],
            "_model_module": "@jupyter-widgets/controls",
            "_model_module_version": "1.5.0",
            "_model_name": "HTMLModel",
            "_view_count": null,
            "_view_module": "@jupyter-widgets/controls",
            "_view_module_version": "1.5.0",
            "_view_name": "HTMLView",
            "description": "",
            "description_tooltip": null,
            "layout": "IPY_MODEL_12e13744ceea4a4ca36b1491ac73d737",
            "placeholder": "​",
            "style": "IPY_MODEL_e2c40f3f226548c094c0459065c7d14b",
            "value": "tokenizer.json: 100%"
          }
        },
        "900a845ace0e4dd69ef94d26e9849efe": {
          "model_module": "@jupyter-widgets/controls",
          "model_name": "FloatProgressModel",
          "model_module_version": "1.5.0",
          "state": {
            "_dom_classes": [],
            "_model_module": "@jupyter-widgets/controls",
            "_model_module_version": "1.5.0",
            "_model_name": "FloatProgressModel",
            "_view_count": null,
            "_view_module": "@jupyter-widgets/controls",
            "_view_module_version": "1.5.0",
            "_view_name": "ProgressView",
            "bar_style": "success",
            "description": "",
            "description_tooltip": null,
            "layout": "IPY_MODEL_f79f3399c0ab450198e0e098a35060ef",
            "max": 1355256,
            "min": 0,
            "orientation": "horizontal",
            "style": "IPY_MODEL_21d9f6898cdd44a2a9357e4973862fad",
            "value": 1355256
          }
        },
        "bd3882573efe40509fd540269048a3ce": {
          "model_module": "@jupyter-widgets/controls",
          "model_name": "HTMLModel",
          "model_module_version": "1.5.0",
          "state": {
            "_dom_classes": [],
            "_model_module": "@jupyter-widgets/controls",
            "_model_module_version": "1.5.0",
            "_model_name": "HTMLModel",
            "_view_count": null,
            "_view_module": "@jupyter-widgets/controls",
            "_view_module_version": "1.5.0",
            "_view_name": "HTMLView",
            "description": "",
            "description_tooltip": null,
            "layout": "IPY_MODEL_c3757fa1a7ee46a985543b0b50738fbf",
            "placeholder": "​",
            "style": "IPY_MODEL_3f5f6ea55f7d4cd8a3e6074c04a232bf",
            "value": " 1.36M/1.36M [00:00&lt;00:00, 7.02MB/s]"
          }
        },
        "5da3c2b9a4e74d9e8c51268071e8b8cb": {
          "model_module": "@jupyter-widgets/base",
          "model_name": "LayoutModel",
          "model_module_version": "1.2.0",
          "state": {
            "_model_module": "@jupyter-widgets/base",
            "_model_module_version": "1.2.0",
            "_model_name": "LayoutModel",
            "_view_count": null,
            "_view_module": "@jupyter-widgets/base",
            "_view_module_version": "1.2.0",
            "_view_name": "LayoutView",
            "align_content": null,
            "align_items": null,
            "align_self": null,
            "border": null,
            "bottom": null,
            "display": null,
            "flex": null,
            "flex_flow": null,
            "grid_area": null,
            "grid_auto_columns": null,
            "grid_auto_flow": null,
            "grid_auto_rows": null,
            "grid_column": null,
            "grid_gap": null,
            "grid_row": null,
            "grid_template_areas": null,
            "grid_template_columns": null,
            "grid_template_rows": null,
            "height": null,
            "justify_content": null,
            "justify_items": null,
            "left": null,
            "margin": null,
            "max_height": null,
            "max_width": null,
            "min_height": null,
            "min_width": null,
            "object_fit": null,
            "object_position": null,
            "order": null,
            "overflow": null,
            "overflow_x": null,
            "overflow_y": null,
            "padding": null,
            "right": null,
            "top": null,
            "visibility": null,
            "width": null
          }
        },
        "12e13744ceea4a4ca36b1491ac73d737": {
          "model_module": "@jupyter-widgets/base",
          "model_name": "LayoutModel",
          "model_module_version": "1.2.0",
          "state": {
            "_model_module": "@jupyter-widgets/base",
            "_model_module_version": "1.2.0",
            "_model_name": "LayoutModel",
            "_view_count": null,
            "_view_module": "@jupyter-widgets/base",
            "_view_module_version": "1.2.0",
            "_view_name": "LayoutView",
            "align_content": null,
            "align_items": null,
            "align_self": null,
            "border": null,
            "bottom": null,
            "display": null,
            "flex": null,
            "flex_flow": null,
            "grid_area": null,
            "grid_auto_columns": null,
            "grid_auto_flow": null,
            "grid_auto_rows": null,
            "grid_column": null,
            "grid_gap": null,
            "grid_row": null,
            "grid_template_areas": null,
            "grid_template_columns": null,
            "grid_template_rows": null,
            "height": null,
            "justify_content": null,
            "justify_items": null,
            "left": null,
            "margin": null,
            "max_height": null,
            "max_width": null,
            "min_height": null,
            "min_width": null,
            "object_fit": null,
            "object_position": null,
            "order": null,
            "overflow": null,
            "overflow_x": null,
            "overflow_y": null,
            "padding": null,
            "right": null,
            "top": null,
            "visibility": null,
            "width": null
          }
        },
        "e2c40f3f226548c094c0459065c7d14b": {
          "model_module": "@jupyter-widgets/controls",
          "model_name": "DescriptionStyleModel",
          "model_module_version": "1.5.0",
          "state": {
            "_model_module": "@jupyter-widgets/controls",
            "_model_module_version": "1.5.0",
            "_model_name": "DescriptionStyleModel",
            "_view_count": null,
            "_view_module": "@jupyter-widgets/base",
            "_view_module_version": "1.2.0",
            "_view_name": "StyleView",
            "description_width": ""
          }
        },
        "f79f3399c0ab450198e0e098a35060ef": {
          "model_module": "@jupyter-widgets/base",
          "model_name": "LayoutModel",
          "model_module_version": "1.2.0",
          "state": {
            "_model_module": "@jupyter-widgets/base",
            "_model_module_version": "1.2.0",
            "_model_name": "LayoutModel",
            "_view_count": null,
            "_view_module": "@jupyter-widgets/base",
            "_view_module_version": "1.2.0",
            "_view_name": "LayoutView",
            "align_content": null,
            "align_items": null,
            "align_self": null,
            "border": null,
            "bottom": null,
            "display": null,
            "flex": null,
            "flex_flow": null,
            "grid_area": null,
            "grid_auto_columns": null,
            "grid_auto_flow": null,
            "grid_auto_rows": null,
            "grid_column": null,
            "grid_gap": null,
            "grid_row": null,
            "grid_template_areas": null,
            "grid_template_columns": null,
            "grid_template_rows": null,
            "height": null,
            "justify_content": null,
            "justify_items": null,
            "left": null,
            "margin": null,
            "max_height": null,
            "max_width": null,
            "min_height": null,
            "min_width": null,
            "object_fit": null,
            "object_position": null,
            "order": null,
            "overflow": null,
            "overflow_x": null,
            "overflow_y": null,
            "padding": null,
            "right": null,
            "top": null,
            "visibility": null,
            "width": null
          }
        },
        "21d9f6898cdd44a2a9357e4973862fad": {
          "model_module": "@jupyter-widgets/controls",
          "model_name": "ProgressStyleModel",
          "model_module_version": "1.5.0",
          "state": {
            "_model_module": "@jupyter-widgets/controls",
            "_model_module_version": "1.5.0",
            "_model_name": "ProgressStyleModel",
            "_view_count": null,
            "_view_module": "@jupyter-widgets/base",
            "_view_module_version": "1.2.0",
            "_view_name": "StyleView",
            "bar_color": null,
            "description_width": ""
          }
        },
        "c3757fa1a7ee46a985543b0b50738fbf": {
          "model_module": "@jupyter-widgets/base",
          "model_name": "LayoutModel",
          "model_module_version": "1.2.0",
          "state": {
            "_model_module": "@jupyter-widgets/base",
            "_model_module_version": "1.2.0",
            "_model_name": "LayoutModel",
            "_view_count": null,
            "_view_module": "@jupyter-widgets/base",
            "_view_module_version": "1.2.0",
            "_view_name": "LayoutView",
            "align_content": null,
            "align_items": null,
            "align_self": null,
            "border": null,
            "bottom": null,
            "display": null,
            "flex": null,
            "flex_flow": null,
            "grid_area": null,
            "grid_auto_columns": null,
            "grid_auto_flow": null,
            "grid_auto_rows": null,
            "grid_column": null,
            "grid_gap": null,
            "grid_row": null,
            "grid_template_areas": null,
            "grid_template_columns": null,
            "grid_template_rows": null,
            "height": null,
            "justify_content": null,
            "justify_items": null,
            "left": null,
            "margin": null,
            "max_height": null,
            "max_width": null,
            "min_height": null,
            "min_width": null,
            "object_fit": null,
            "object_position": null,
            "order": null,
            "overflow": null,
            "overflow_x": null,
            "overflow_y": null,
            "padding": null,
            "right": null,
            "top": null,
            "visibility": null,
            "width": null
          }
        },
        "3f5f6ea55f7d4cd8a3e6074c04a232bf": {
          "model_module": "@jupyter-widgets/controls",
          "model_name": "DescriptionStyleModel",
          "model_module_version": "1.5.0",
          "state": {
            "_model_module": "@jupyter-widgets/controls",
            "_model_module_version": "1.5.0",
            "_model_name": "DescriptionStyleModel",
            "_view_count": null,
            "_view_module": "@jupyter-widgets/base",
            "_view_module_version": "1.2.0",
            "_view_name": "StyleView",
            "description_width": ""
          }
        }
      }
    },
    "accelerator": "GPU"
  },
  "cells": [
    {
      "cell_type": "markdown",
      "source": [
        "# **Useful Resources**\n",
        "* **How TRansformers Works**\n",
        "  * [Jay Alammar - Transformers](https://jalammar.github.io/illustrated-transformer/)\n",
        "  * [Data Camp](https://www.datacamp.com/tutorial/how-transformers-work)\n",
        "* **Coding Example**\n",
        "  * [Annotated-Transformers with PyTorch](http://nlp.seas.harvard.edu/annotated-transformer/)\n",
        "  * [Data Camp Transformers code](https://www.datacamp.com/tutorial/building-a-transformer-with-py-torch)\n",
        "* **YouTube Playlist**\n",
        "  * [Transformers from scratch](https://youtube.com/playlist?list=PLTl9hO2Oobd97qfWC40gOSU8C0iu0m2l4&feature=shared)\n",
        "  * [3Blue1Brown: Visual Explaining](https://youtube.com/playlist?list=PLZHQObOWTQDNU6R1_67000Dx_ZCJB-3pi&feature=shared)\n",
        "* **Preprocessing**\n",
        "  * [TMX to DataFrame](https://medium.com/@said.surucu/step-by-step-guide-to-converting-tmx-files-to-excel-using-python-c4dc72ef0875)"
      ],
      "metadata": {
        "id": "djTu4-PsgxF1"
      }
    },
    {
      "cell_type": "markdown",
      "source": [
        "### **Architecture**"
      ],
      "metadata": {
        "id": "fHrhk98carJn"
      }
    },
    {
      "cell_type": "markdown",
      "source": [
        "![image.png](data:image/png;base64,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)"
      ],
      "metadata": {
        "id": "-SU4AlVta4jx"
      }
    },
    {
      "cell_type": "markdown",
      "source": [
        "## **Libraries**"
      ],
      "metadata": {
        "id": "xWKBZONDcteH"
      }
    },
    {
      "cell_type": "code",
      "source": [
        "# !pip3 install -q torch torchvision torchaudio"
      ],
      "metadata": {
        "id": "NdlcWf7BO4vG"
      },
      "execution_count": null,
      "outputs": []
    },
    {
      "cell_type": "code",
      "source": [
        "# !pip install -q transformers datasets numpy"
      ],
      "metadata": {
        "id": "e_3x3j-PlSps",
        "colab": {
          "base_uri": "https://localhost:8080/"
        },
        "outputId": "053e9962-3fad-46ee-b473-780293881c68"
      },
      "execution_count": null,
      "outputs": [
        {
          "output_type": "stream",
          "name": "stdout",
          "text": [
            "\u001b[?25l   \u001b[90m━━━━━━━━━━━━━━━━━━━━━━━━━━━━━━━━━━━━━━━━\u001b[0m \u001b[32m0.0/480.6 kB\u001b[0m \u001b[31m?\u001b[0m eta \u001b[36m-:--:--\u001b[0m\r\u001b[2K   \u001b[90m━━━━━━━━━━━━━━━━━━━━━━━━━━━━━━━━━━━━━━━━\u001b[0m \u001b[32m480.6/480.6 kB\u001b[0m \u001b[31m14.4 MB/s\u001b[0m eta \u001b[36m0:00:00\u001b[0m\n",
            "\u001b[?25h\u001b[?25l   \u001b[90m━━━━━━━━━━━━━━━━━━━━━━━━━━━━━━━━━━━━━━━━\u001b[0m \u001b[32m0.0/116.3 kB\u001b[0m \u001b[31m?\u001b[0m eta \u001b[36m-:--:--\u001b[0m\r\u001b[2K   \u001b[90m━━━━━━━━━━━━━━━━━━━━━━━━━━━━━━━━━━━━━━━━\u001b[0m \u001b[32m116.3/116.3 kB\u001b[0m \u001b[31m10.9 MB/s\u001b[0m eta \u001b[36m0:00:00\u001b[0m\n",
            "\u001b[?25h\u001b[?25l   \u001b[90m━━━━━━━━━━━━━━━━━━━━━━━━━━━━━━━━━━━━━━━━\u001b[0m \u001b[32m0.0/179.3 kB\u001b[0m \u001b[31m?\u001b[0m eta \u001b[36m-:--:--\u001b[0m\r\u001b[2K   \u001b[90m━━━━━━━━━━━━━━━━━━━━━━━━━━━━━━━━━━━━━━━━\u001b[0m \u001b[32m179.3/179.3 kB\u001b[0m \u001b[31m16.1 MB/s\u001b[0m eta \u001b[36m0:00:00\u001b[0m\n",
            "\u001b[2K   \u001b[90m━━━━━━━━━━━━━━━━━━━━━━━━━━━━━━━━━━━━━━━━\u001b[0m \u001b[32m143.5/143.5 kB\u001b[0m \u001b[31m7.0 MB/s\u001b[0m eta \u001b[36m0:00:00\u001b[0m\n",
            "\u001b[2K   \u001b[90m━━━━━━━━━━━━━━━━━━━━━━━━━━━━━━━━━━━━━━━━\u001b[0m \u001b[32m194.8/194.8 kB\u001b[0m \u001b[31m13.0 MB/s\u001b[0m eta \u001b[36m0:00:00\u001b[0m\n",
            "\u001b[?25h\u001b[31mERROR: pip's dependency resolver does not currently take into account all the packages that are installed. This behaviour is the source of the following dependency conflicts.\n",
            "gcsfs 2024.10.0 requires fsspec==2024.10.0, but you have fsspec 2024.9.0 which is incompatible.\u001b[0m\u001b[31m\n",
            "\u001b[0m"
          ]
        }
      ]
    },
    {
      "cell_type": "code",
      "source": [
        "import torch\n",
        "import torch.nn as nn\n",
        "import torch.nn.functional as F\n",
        "import torch.optim as optim\n",
        "from torch.utils.data import Dataset, DataLoader\n",
        "import pandas as pd\n",
        "import numpy as np\n",
        "import json\n",
        "import re\n",
        "import math\n",
        "from transformers import AutoTokenizer\n",
        "from datasets import load_dataset\n",
        "from tqdm import tqdm\n",
        "import gdown\n",
        "import sys\n",
        "import os\n",
        "from lxml import etree"
      ],
      "metadata": {
        "id": "cHUh4JGrQ0ob"
      },
      "execution_count": null,
      "outputs": []
    },
    {
      "cell_type": "markdown",
      "source": [
        "## **Set Up**"
      ],
      "metadata": {
        "id": "Yy_9Ybpcc1RK"
      }
    },
    {
      "cell_type": "markdown",
      "source": [
        "### **Device**"
      ],
      "metadata": {
        "id": "vZkNM-b9HT-3"
      }
    },
    {
      "cell_type": "code",
      "source": [
        "device = torch.device(\"cuda\" if torch.cuda.is_available() else \"cpu\")\n",
        "print(device)"
      ],
      "metadata": {
        "colab": {
          "base_uri": "https://localhost:8080/"
        },
        "id": "32vhOl7BHYhe",
        "outputId": "08d878df-a639-48ab-f827-16c0327e4337"
      },
      "execution_count": null,
      "outputs": [
        {
          "output_type": "stream",
          "name": "stdout",
          "text": [
            "cuda\n"
          ]
        }
      ]
    },
    {
      "cell_type": "markdown",
      "source": [
        "### **Tokenizer Huggingface**"
      ],
      "metadata": {
        "id": "lWcPZHPOHMHh"
      }
    },
    {
      "cell_type": "code",
      "source": [
        "tokenizer = AutoTokenizer.from_pretrained(\"gpt2\")"
      ],
      "metadata": {
        "id": "oxjWEaIRy6iR",
        "colab": {
          "base_uri": "https://localhost:8080/",
          "height": 306,
          "referenced_widgets": [
            "c899718899cb4d29a3b8288cecee683b",
            "9bcfe8442df447c380145def2754a351",
            "b11572aec15547abb49f424fd22abf01",
            "7cc878c6a1774eb28be37e5b9a148608",
            "739b3226c2224a3684c635bb65273abd",
            "2b9ba59936fb4f1a91291b49577677b6",
            "14762727ae074b1aafdcc87412d8ce22",
            "907a75fbd2624915aafca190816b0d1e",
            "1582bc3c65794875b7f85bb6e8524c82",
            "aada22a22c934c1f9c4f6e5dd777c1b6",
            "301a4fe6ff6a486288c1632531f8f710",
            "c9da082b40024f6ca615b14bea89f910",
            "0408659ae04544d28a8c6fbb8f8fa99c",
            "4bc41d5a0a384764b40c82243eb5186d",
            "944d4296f37844fea622be60a9e19def",
            "df68fdf8848b4ee2adac89e9185e52ca",
            "2edb14f7bef74212bab8f7135ceefa61",
            "3e9977c25fde4196b37b2b0c3a688524",
            "b8cb5cbe8837421ba80b03ee4c54d9e3",
            "4a530b32d77647638859fba7281bc3a3",
            "7749e9f1abf5419297fc04b381301dfa",
            "bc6d94a0fdaf422a84e1ee8f60833473",
            "5b2ee0f7dda2430f8d6e19823645a08a",
            "cbdb5c933e6d44f9b1806a60986cb089",
            "344ddd9b4a8243ab9b044d2438e018a0",
            "871dc7fff0824df6adb92ed4a3ea02ee",
            "8db965994e5c4002a51711c60111966e",
            "01cecad7af604a43ac521828c2ae6db8",
            "ef5933643ad34a4299c26e70f573552c",
            "38248bc17231484ba9d5320959b7dc1a",
            "8b798ce6325747439f620d376b667da3",
            "62034f9fcd3540d1a4688a5c85d2a5c3",
            "13de7ae847444e2384f70f6bda5f1d58",
            "1a73b76be5444a3b9c3c15b3b678905d",
            "88fcde87fc9d43ca984b74a02cd6756c",
            "ace59078293e40968132af9292cbc915",
            "0973a52c78244328b8166695165df311",
            "b9878454276f4bee967f70dc4dce0c74",
            "e2e9ed7d7fdc488a9ace3fbbd5b1b59c",
            "0b2bcdac851448b3883ccfc2816e9273",
            "7e74c28029e34169b62d5b6c625cddb3",
            "7bfd58e97f6f4e8ea394273c86830c9a",
            "212c966890034201be7766217201e0a9",
            "144eeb138b4240a99035e503b7d4f0ca",
            "8dee0ed322ea4c02bb775089541ef184",
            "8ba6135b28ad4093910cf1e825740be1",
            "900a845ace0e4dd69ef94d26e9849efe",
            "bd3882573efe40509fd540269048a3ce",
            "5da3c2b9a4e74d9e8c51268071e8b8cb",
            "12e13744ceea4a4ca36b1491ac73d737",
            "e2c40f3f226548c094c0459065c7d14b",
            "f79f3399c0ab450198e0e098a35060ef",
            "21d9f6898cdd44a2a9357e4973862fad",
            "c3757fa1a7ee46a985543b0b50738fbf",
            "3f5f6ea55f7d4cd8a3e6074c04a232bf"
          ]
        },
        "outputId": "04136f9b-4c03-4540-80cd-b7ad7348a732"
      },
      "execution_count": null,
      "outputs": [
        {
          "output_type": "stream",
          "name": "stderr",
          "text": [
            "/usr/local/lib/python3.11/dist-packages/huggingface_hub/utils/_auth.py:94: UserWarning: \n",
            "The secret `HF_TOKEN` does not exist in your Colab secrets.\n",
            "To authenticate with the Hugging Face Hub, create a token in your settings tab (https://huggingface.co/settings/tokens), set it as secret in your Google Colab and restart your session.\n",
            "You will be able to reuse this secret in all of your notebooks.\n",
            "Please note that authentication is recommended but still optional to access public models or datasets.\n",
            "  warnings.warn(\n"
          ]
        },
        {
          "output_type": "display_data",
          "data": {
            "text/plain": [
              "tokenizer_config.json:   0%|          | 0.00/26.0 [00:00<?, ?B/s]"
            ],
            "application/vnd.jupyter.widget-view+json": {
              "version_major": 2,
              "version_minor": 0,
              "model_id": "c899718899cb4d29a3b8288cecee683b"
            }
          },
          "metadata": {}
        },
        {
          "output_type": "display_data",
          "data": {
            "text/plain": [
              "config.json:   0%|          | 0.00/665 [00:00<?, ?B/s]"
            ],
            "application/vnd.jupyter.widget-view+json": {
              "version_major": 2,
              "version_minor": 0,
              "model_id": "c9da082b40024f6ca615b14bea89f910"
            }
          },
          "metadata": {}
        },
        {
          "output_type": "display_data",
          "data": {
            "text/plain": [
              "vocab.json:   0%|          | 0.00/1.04M [00:00<?, ?B/s]"
            ],
            "application/vnd.jupyter.widget-view+json": {
              "version_major": 2,
              "version_minor": 0,
              "model_id": "5b2ee0f7dda2430f8d6e19823645a08a"
            }
          },
          "metadata": {}
        },
        {
          "output_type": "display_data",
          "data": {
            "text/plain": [
              "merges.txt:   0%|          | 0.00/456k [00:00<?, ?B/s]"
            ],
            "application/vnd.jupyter.widget-view+json": {
              "version_major": 2,
              "version_minor": 0,
              "model_id": "1a73b76be5444a3b9c3c15b3b678905d"
            }
          },
          "metadata": {}
        },
        {
          "output_type": "display_data",
          "data": {
            "text/plain": [
              "tokenizer.json:   0%|          | 0.00/1.36M [00:00<?, ?B/s]"
            ],
            "application/vnd.jupyter.widget-view+json": {
              "version_major": 2,
              "version_minor": 0,
              "model_id": "8dee0ed322ea4c02bb775089541ef184"
            }
          },
          "metadata": {}
        }
      ]
    },
    {
      "cell_type": "code",
      "source": [
        "tokenizer.add_special_tokens({'pad_token': '[PAD]'})\n",
        "tokenizer.add_special_tokens({'bos_token': '[START]'})\n",
        "tokenizer.add_special_tokens({'eos_token': '[END]'})"
      ],
      "metadata": {
        "colab": {
          "base_uri": "https://localhost:8080/"
        },
        "id": "btZf-LAFHg9B",
        "outputId": "a84d363a-dc77-49a0-98b0-71a37a89ebfd"
      },
      "execution_count": null,
      "outputs": [
        {
          "output_type": "execute_result",
          "data": {
            "text/plain": [
              "1"
            ]
          },
          "metadata": {},
          "execution_count": 7
        }
      ]
    },
    {
      "cell_type": "markdown",
      "source": [
        "### **Dataset**"
      ],
      "metadata": {
        "id": "-jvPz0guIVzd"
      }
    },
    {
      "cell_type": "markdown",
      "source": [
        "#### **Huggingface Dataset**"
      ],
      "metadata": {
        "id": "y9IstKuYtbNW"
      }
    },
    {
      "cell_type": "code",
      "source": [
        "# en_uz_dataset_train = load_dataset(\"Helsinki-NLP/opus-100\", \"en-uz\", split=\"train\")\n",
        "# en_uz_dataset_test = load_dataset(\"Helsinki-NLP/opus-100\", \"en-uz\", split=\"test\")\n",
        "# en_uz_dataset_validation = load_dataset(\"Helsinki-NLP/opus-100\", \"en-uz\", split=\"validation\")"
      ],
      "metadata": {
        "id": "BaBIWhRcIZy5"
      },
      "execution_count": null,
      "outputs": []
    },
    {
      "cell_type": "code",
      "source": [
        "# print(f\"Train dataset contain: {en_uz_dataset_train.num_rows} rows\")\n",
        "# print(f\"Test dataset contain: {en_uz_dataset_test.num_rows} rows\")\n",
        "# print(f\"Validation dataset contain: {en_uz_dataset_validation.num_rows} rows\")"
      ],
      "metadata": {
        "id": "1kS7GrfJIcbi"
      },
      "execution_count": null,
      "outputs": []
    },
    {
      "cell_type": "code",
      "source": [
        "# train_data = en_uz_dataset_train.to_pandas()\n",
        "# test_data = en_uz_dataset_test.to_pandas()\n",
        "# validation_data = en_uz_dataset_validation.to_pandas()\n",
        "\n",
        "# collect_train = []\n",
        "# collect_test = []\n",
        "# collect_validation = []\n",
        "\n",
        "# for i in range(train_data.shape[0]):\n",
        "#     collect_train.append(train_data.translation[i])\n",
        "\n",
        "# for i in range(test_data.shape[0]):\n",
        "#     collect_test.append(test_data.translation[i])\n",
        "\n",
        "# for i in range(validation_data.shape[0]):\n",
        "#     collect_validation.append(validation_data.translation[i])\n",
        "\n",
        "# df_train = pd.DataFrame(collect_train)\n",
        "# df_test = pd.DataFrame(collect_test)\n",
        "# df_validation = pd.DataFrame(collect_validation)"
      ],
      "metadata": {
        "id": "TCQwckuuIe4j"
      },
      "execution_count": null,
      "outputs": []
    },
    {
      "cell_type": "code",
      "source": [
        "# def cyrillic_to_latin(text):\n",
        "#     cyrillic_to_latin_map = {\n",
        "#         'А': 'A', 'Б': 'B', 'В': 'V', 'Г': 'G', 'Ғ': \"G'\", 'Д': 'D', 'Е': 'E', 'Ё': 'Yo', 'Ж': 'Zh', 'З': 'Z',\n",
        "#         'И': 'I', 'Й': 'Y', 'К': 'K', 'Қ': \"Q\", 'Л': 'L', 'М': 'M', 'Н': 'N', 'О': 'O', 'П': 'P',\n",
        "#         'Р': 'R', 'С': 'S', 'Т': 'T', 'У': 'U', 'Ў': \"O'\", 'Ф': 'F', 'Х': 'X','Ҳ':'H', 'Ц': 'Ts', 'Ч': 'Ch', 'Ш': 'Sh',\n",
        "#         'Щ': 'Shch', 'Ъ': '', 'Ы': 'Y', 'Ь': '', 'Э': 'E', 'Ю': 'Yu', 'Я': 'Ya',\n",
        "#         'а': 'a', 'б': 'b', 'в': 'v', 'г': 'g', 'ғ': \"g'\", 'д': 'd', 'е': 'e', 'ё': 'yo', 'ж': 'zh', 'з': 'z',\n",
        "#         'и': 'i', 'й': 'y', 'к': 'k', 'қ': \"q\", 'л': 'l', 'м': 'm', 'н': 'n', 'о': 'o', 'п': 'p',\n",
        "#         'р': 'r', 'с': 's', 'т': 't', 'у': 'u', 'ў': \"o'\", 'ф': 'f','x': 'x', 'ҳ': 'h', 'ц': 'ts', 'ч': 'ch', 'ш': 'sh',\n",
        "#         'щ': 'shch', 'ъ': '', 'ы': 'y', 'ь': '', 'э': 'e', 'ю': 'yu', 'я': 'ya'\n",
        "#     }\n",
        "#     return ''.join(cyrillic_to_latin_map.get(char, char) for char in text)\n",
        "\n",
        "# if 'uz' in df_train.columns:\n",
        "#     df_train['uz'] = df_train['uz'].apply(lambda x: cyrillic_to_latin(x) if isinstance(x, str) else x)\n",
        "# else:\n",
        "#     print(\"Warning: 'uz' column not found in df_train.\")"
      ],
      "metadata": {
        "id": "UGyxJ_lcIg_i"
      },
      "execution_count": null,
      "outputs": []
    },
    {
      "cell_type": "code",
      "source": [
        "# def process_text(text):\n",
        "#     text = \"[START] \" + text\n",
        "#     text = text.replace(\".\", \". [SEP]\")\n",
        "#     text = text + \" [END]\"\n",
        "#     return text\n",
        "\n",
        "# if 'en' in df_train.columns:\n",
        "#     df_train['en'] = df_train['en'].apply(process_text)\n",
        "# else:\n",
        "#     print(\"Warning: 'translation' column not found in df_train.\")\n",
        "\n",
        "# if 'uz' in df_train.columns:\n",
        "#     df_train['uz'] = df_train['uz'].apply(process_text)\n",
        "# else:\n",
        "#     print(\"Warning: 'translation' column not found in df_train.\")"
      ],
      "metadata": {
        "id": "YiNHD8C0JR8S"
      },
      "execution_count": null,
      "outputs": []
    },
    {
      "cell_type": "code",
      "source": [
        "# df_train.head()"
      ],
      "metadata": {
        "id": "aWOS8QjVIjpJ"
      },
      "execution_count": null,
      "outputs": []
    },
    {
      "cell_type": "markdown",
      "source": [
        "#### **OPUS**"
      ],
      "metadata": {
        "id": "Cdt8iyXQtgdu"
      }
    },
    {
      "cell_type": "code",
      "source": [
        "file_id_1 = '1iatSQC7DLrp0cM59mFaoNWlKAL52JSx_' # en-ru\n",
        "file_id_2 = \"1DffdV3qeg4ETMxHc6R-dgYH7IOT15vue\" #en-tr\n",
        "file_id_3 = \"1ZYPUZpL7Aff0_x1Xq1vDwQXmfZ7_-m9f\" #en-uz\n",
        "url = f'https://drive.google.com/uc?export=download&id={file_id_3}'\n",
        "\n",
        "gdown.download(url, quiet=False)"
      ],
      "metadata": {
        "colab": {
          "base_uri": "https://localhost:8080/",
          "height": 127
        },
        "id": "Pa4OubpYuyA8",
        "outputId": "a6cc4679-986a-48ee-b686-ead0a6902775"
      },
      "execution_count": null,
      "outputs": [
        {
          "output_type": "stream",
          "name": "stderr",
          "text": [
            "Downloading...\n",
            "From (original): https://drive.google.com/uc?export=download&id=1ZYPUZpL7Aff0_x1Xq1vDwQXmfZ7_-m9f\n",
            "From (redirected): https://drive.google.com/uc?export=download&id=1ZYPUZpL7Aff0_x1Xq1vDwQXmfZ7_-m9f&confirm=t&uuid=585f9ca4-2ff0-42ca-959c-765ce0b5045d\n",
            "To: /content/en-uz.tmx.gz\n",
            "100%|██████████| 109M/109M [00:01<00:00, 55.2MB/s]\n"
          ]
        },
        {
          "output_type": "execute_result",
          "data": {
            "text/plain": [
              "'en-uz.tmx.gz'"
            ],
            "application/vnd.google.colaboratory.intrinsic+json": {
              "type": "string"
            }
          },
          "metadata": {},
          "execution_count": 14
        }
      ]
    },
    {
      "cell_type": "code",
      "source": [
        "!gunzip \"/content/en-uz.tmx.gz\""
      ],
      "metadata": {
        "id": "GkKmckmXvQEn"
      },
      "execution_count": null,
      "outputs": []
    },
    {
      "cell_type": "code",
      "source": [
        "FILE_PATH_1 = \"/content/en-ru.tmx\"\n",
        "FILE_PATH_2 = \"/content/en-tr.tmx\"\n",
        "FILE_PATH_3 = \"/content/en-uz.tmx\"\n",
        "xml_tree = etree.parse(FILE_PATH_3)"
      ],
      "metadata": {
        "id": "BxedUjYR2ell"
      },
      "execution_count": null,
      "outputs": []
    },
    {
      "cell_type": "code",
      "source": [
        "df = pd.DataFrame(columns=[\"Source\", \"Target\"], dtype=\"string\")"
      ],
      "metadata": {
        "id": "hFaWpujHxfWc"
      },
      "execution_count": null,
      "outputs": []
    },
    {
      "cell_type": "code",
      "source": [
        "trans_units = xml_tree.findall(\".//tu\")"
      ],
      "metadata": {
        "id": "3ZEM5weXySf9"
      },
      "execution_count": null,
      "outputs": []
    },
    {
      "cell_type": "code",
      "source": [
        "source_texts = []\n",
        "target_texts = []\n",
        "for trans_unit in trans_units:\n",
        "    tuv1 = trans_unit.findall(\".//tuv\")[0]\n",
        "    tuv2 = trans_unit.findall(\".//tuv\")[1]\n",
        "    source = tuv1.findall(\".//seg\")[0]\n",
        "    target = tuv2.findall(\".//seg\")[0]\n",
        "\n",
        "    source_text = ''.join(source.itertext())\n",
        "    target_text = ''.join(target.itertext())\n",
        "\n",
        "    source_texts.append(source_text)\n",
        "    target_texts.append(target_text)"
      ],
      "metadata": {
        "id": "RFPClC07yV4X"
      },
      "execution_count": null,
      "outputs": []
    },
    {
      "cell_type": "code",
      "source": [
        "df[\"Source\"] = source_texts\n",
        "df[\"Target\"] = target_texts"
      ],
      "metadata": {
        "id": "Yo8Bx3J2yd7A"
      },
      "execution_count": null,
      "outputs": []
    },
    {
      "cell_type": "code",
      "source": [
        "def remove_parentheses(text):\n",
        "    if isinstance(text, str):\n",
        "        return re.sub(r'[()]', '', text)\n",
        "    return text"
      ],
      "metadata": {
        "id": "Tf2BMyiN0ORo"
      },
      "execution_count": null,
      "outputs": []
    },
    {
      "cell_type": "code",
      "source": [
        "def process_text(text):\n",
        "    text = \"[START] \" + text\n",
        "    text = text.replace(\".\", \". [SEP]\")\n",
        "    text = text + \" [END]\"\n",
        "    return text"
      ],
      "metadata": {
        "id": "6Y4I33Yi34zV"
      },
      "execution_count": null,
      "outputs": []
    },
    {
      "cell_type": "code",
      "source": [
        "df['Source'] = df['Source'].apply(remove_parentheses)\n",
        "df['Target'] = df['Target'].apply(remove_parentheses)\n",
        "df['Source'] = df['Source'].apply(process_text)\n",
        "df['Target'] = df['Target'].apply(process_text)"
      ],
      "metadata": {
        "id": "5pGqhlzi0P8k"
      },
      "execution_count": null,
      "outputs": []
    },
    {
      "cell_type": "code",
      "source": [
        "df.head()"
      ],
      "metadata": {
        "colab": {
          "base_uri": "https://localhost:8080/",
          "height": 206
        },
        "id": "9zTYhz1lyg0w",
        "outputId": "417c701d-4783-4aa5-8d6a-ca342735d5d4"
      },
      "execution_count": null,
      "outputs": [
        {
          "output_type": "execute_result",
          "data": {
            "text/plain": [
              "                                              Source  \\\n",
              "0  [START] Jizzakh branch of the National Univers...   \n",
              "1  [START] Jizzakh branch of the National Univers...   \n",
              "2          [START] Established in 2019. [SEP]  [END]   \n",
              "3  [START] At the same time, Shermuhammedova Nigi...   \n",
              "4  [START] The branch is planning to introduce mo...   \n",
              "\n",
              "                                              Target  \n",
              "0  [START] Oʻzbekiston milliy universitetining Ji...  \n",
              "1  [START] Mirzo Ulugʻbek nomidagi Oʻzbekiston mi...  \n",
              "2    [START] 2019-yilda tashkil topgan. [SEP]  [END]  \n",
              "3  [START] Shu bilan bir qatorda Mirzo Ulugʻbek n...  \n",
              "4  [START] Filialda xorijiy davlatlarning etakchi...  "
            ],
            "text/html": [
              "\n",
              "  <div id=\"df-cf820e6c-c904-4d39-95bf-b0fed9503ac9\" class=\"colab-df-container\">\n",
              "    <div>\n",
              "<style scoped>\n",
              "    .dataframe tbody tr th:only-of-type {\n",
              "        vertical-align: middle;\n",
              "    }\n",
              "\n",
              "    .dataframe tbody tr th {\n",
              "        vertical-align: top;\n",
              "    }\n",
              "\n",
              "    .dataframe thead th {\n",
              "        text-align: right;\n",
              "    }\n",
              "</style>\n",
              "<table border=\"1\" class=\"dataframe\">\n",
              "  <thead>\n",
              "    <tr style=\"text-align: right;\">\n",
              "      <th></th>\n",
              "      <th>Source</th>\n",
              "      <th>Target</th>\n",
              "    </tr>\n",
              "  </thead>\n",
              "  <tbody>\n",
              "    <tr>\n",
              "      <th>0</th>\n",
              "      <td>[START] Jizzakh branch of the National Univers...</td>\n",
              "      <td>[START] Oʻzbekiston milliy universitetining Ji...</td>\n",
              "    </tr>\n",
              "    <tr>\n",
              "      <th>1</th>\n",
              "      <td>[START] Jizzakh branch of the National Univers...</td>\n",
              "      <td>[START] Mirzo Ulugʻbek nomidagi Oʻzbekiston mi...</td>\n",
              "    </tr>\n",
              "    <tr>\n",
              "      <th>2</th>\n",
              "      <td>[START] Established in 2019. [SEP]  [END]</td>\n",
              "      <td>[START] 2019-yilda tashkil topgan. [SEP]  [END]</td>\n",
              "    </tr>\n",
              "    <tr>\n",
              "      <th>3</th>\n",
              "      <td>[START] At the same time, Shermuhammedova Nigi...</td>\n",
              "      <td>[START] Shu bilan bir qatorda Mirzo Ulugʻbek n...</td>\n",
              "    </tr>\n",
              "    <tr>\n",
              "      <th>4</th>\n",
              "      <td>[START] The branch is planning to introduce mo...</td>\n",
              "      <td>[START] Filialda xorijiy davlatlarning etakchi...</td>\n",
              "    </tr>\n",
              "  </tbody>\n",
              "</table>\n",
              "</div>\n",
              "    <div class=\"colab-df-buttons\">\n",
              "\n",
              "  <div class=\"colab-df-container\">\n",
              "    <button class=\"colab-df-convert\" onclick=\"convertToInteractive('df-cf820e6c-c904-4d39-95bf-b0fed9503ac9')\"\n",
              "            title=\"Convert this dataframe to an interactive table.\"\n",
              "            style=\"display:none;\">\n",
              "\n",
              "  <svg xmlns=\"http://www.w3.org/2000/svg\" height=\"24px\" viewBox=\"0 -960 960 960\">\n",
              "    <path d=\"M120-120v-720h720v720H120Zm60-500h600v-160H180v160Zm220 220h160v-160H400v160Zm0 220h160v-160H400v160ZM180-400h160v-160H180v160Zm440 0h160v-160H620v160ZM180-180h160v-160H180v160Zm440 0h160v-160H620v160Z\"/>\n",
              "  </svg>\n",
              "    </button>\n",
              "\n",
              "  <style>\n",
              "    .colab-df-container {\n",
              "      display:flex;\n",
              "      gap: 12px;\n",
              "    }\n",
              "\n",
              "    .colab-df-convert {\n",
              "      background-color: #E8F0FE;\n",
              "      border: none;\n",
              "      border-radius: 50%;\n",
              "      cursor: pointer;\n",
              "      display: none;\n",
              "      fill: #1967D2;\n",
              "      height: 32px;\n",
              "      padding: 0 0 0 0;\n",
              "      width: 32px;\n",
              "    }\n",
              "\n",
              "    .colab-df-convert:hover {\n",
              "      background-color: #E2EBFA;\n",
              "      box-shadow: 0px 1px 2px rgba(60, 64, 67, 0.3), 0px 1px 3px 1px rgba(60, 64, 67, 0.15);\n",
              "      fill: #174EA6;\n",
              "    }\n",
              "\n",
              "    .colab-df-buttons div {\n",
              "      margin-bottom: 4px;\n",
              "    }\n",
              "\n",
              "    [theme=dark] .colab-df-convert {\n",
              "      background-color: #3B4455;\n",
              "      fill: #D2E3FC;\n",
              "    }\n",
              "\n",
              "    [theme=dark] .colab-df-convert:hover {\n",
              "      background-color: #434B5C;\n",
              "      box-shadow: 0px 1px 3px 1px rgba(0, 0, 0, 0.15);\n",
              "      filter: drop-shadow(0px 1px 2px rgba(0, 0, 0, 0.3));\n",
              "      fill: #FFFFFF;\n",
              "    }\n",
              "  </style>\n",
              "\n",
              "    <script>\n",
              "      const buttonEl =\n",
              "        document.querySelector('#df-cf820e6c-c904-4d39-95bf-b0fed9503ac9 button.colab-df-convert');\n",
              "      buttonEl.style.display =\n",
              "        google.colab.kernel.accessAllowed ? 'block' : 'none';\n",
              "\n",
              "      async function convertToInteractive(key) {\n",
              "        const element = document.querySelector('#df-cf820e6c-c904-4d39-95bf-b0fed9503ac9');\n",
              "        const dataTable =\n",
              "          await google.colab.kernel.invokeFunction('convertToInteractive',\n",
              "                                                    [key], {});\n",
              "        if (!dataTable) return;\n",
              "\n",
              "        const docLinkHtml = 'Like what you see? Visit the ' +\n",
              "          '<a target=\"_blank\" href=https://colab.research.google.com/notebooks/data_table.ipynb>data table notebook</a>'\n",
              "          + ' to learn more about interactive tables.';\n",
              "        element.innerHTML = '';\n",
              "        dataTable['output_type'] = 'display_data';\n",
              "        await google.colab.output.renderOutput(dataTable, element);\n",
              "        const docLink = document.createElement('div');\n",
              "        docLink.innerHTML = docLinkHtml;\n",
              "        element.appendChild(docLink);\n",
              "      }\n",
              "    </script>\n",
              "  </div>\n",
              "\n",
              "\n",
              "<div id=\"df-e6909e9f-0a4d-43c1-bc3b-a2845f7d5a12\">\n",
              "  <button class=\"colab-df-quickchart\" onclick=\"quickchart('df-e6909e9f-0a4d-43c1-bc3b-a2845f7d5a12')\"\n",
              "            title=\"Suggest charts\"\n",
              "            style=\"display:none;\">\n",
              "\n",
              "<svg xmlns=\"http://www.w3.org/2000/svg\" height=\"24px\"viewBox=\"0 0 24 24\"\n",
              "     width=\"24px\">\n",
              "    <g>\n",
              "        <path d=\"M19 3H5c-1.1 0-2 .9-2 2v14c0 1.1.9 2 2 2h14c1.1 0 2-.9 2-2V5c0-1.1-.9-2-2-2zM9 17H7v-7h2v7zm4 0h-2V7h2v10zm4 0h-2v-4h2v4z\"/>\n",
              "    </g>\n",
              "</svg>\n",
              "  </button>\n",
              "\n",
              "<style>\n",
              "  .colab-df-quickchart {\n",
              "      --bg-color: #E8F0FE;\n",
              "      --fill-color: #1967D2;\n",
              "      --hover-bg-color: #E2EBFA;\n",
              "      --hover-fill-color: #174EA6;\n",
              "      --disabled-fill-color: #AAA;\n",
              "      --disabled-bg-color: #DDD;\n",
              "  }\n",
              "\n",
              "  [theme=dark] .colab-df-quickchart {\n",
              "      --bg-color: #3B4455;\n",
              "      --fill-color: #D2E3FC;\n",
              "      --hover-bg-color: #434B5C;\n",
              "      --hover-fill-color: #FFFFFF;\n",
              "      --disabled-bg-color: #3B4455;\n",
              "      --disabled-fill-color: #666;\n",
              "  }\n",
              "\n",
              "  .colab-df-quickchart {\n",
              "    background-color: var(--bg-color);\n",
              "    border: none;\n",
              "    border-radius: 50%;\n",
              "    cursor: pointer;\n",
              "    display: none;\n",
              "    fill: var(--fill-color);\n",
              "    height: 32px;\n",
              "    padding: 0;\n",
              "    width: 32px;\n",
              "  }\n",
              "\n",
              "  .colab-df-quickchart:hover {\n",
              "    background-color: var(--hover-bg-color);\n",
              "    box-shadow: 0 1px 2px rgba(60, 64, 67, 0.3), 0 1px 3px 1px rgba(60, 64, 67, 0.15);\n",
              "    fill: var(--button-hover-fill-color);\n",
              "  }\n",
              "\n",
              "  .colab-df-quickchart-complete:disabled,\n",
              "  .colab-df-quickchart-complete:disabled:hover {\n",
              "    background-color: var(--disabled-bg-color);\n",
              "    fill: var(--disabled-fill-color);\n",
              "    box-shadow: none;\n",
              "  }\n",
              "\n",
              "  .colab-df-spinner {\n",
              "    border: 2px solid var(--fill-color);\n",
              "    border-color: transparent;\n",
              "    border-bottom-color: var(--fill-color);\n",
              "    animation:\n",
              "      spin 1s steps(1) infinite;\n",
              "  }\n",
              "\n",
              "  @keyframes spin {\n",
              "    0% {\n",
              "      border-color: transparent;\n",
              "      border-bottom-color: var(--fill-color);\n",
              "      border-left-color: var(--fill-color);\n",
              "    }\n",
              "    20% {\n",
              "      border-color: transparent;\n",
              "      border-left-color: var(--fill-color);\n",
              "      border-top-color: var(--fill-color);\n",
              "    }\n",
              "    30% {\n",
              "      border-color: transparent;\n",
              "      border-left-color: var(--fill-color);\n",
              "      border-top-color: var(--fill-color);\n",
              "      border-right-color: var(--fill-color);\n",
              "    }\n",
              "    40% {\n",
              "      border-color: transparent;\n",
              "      border-right-color: var(--fill-color);\n",
              "      border-top-color: var(--fill-color);\n",
              "    }\n",
              "    60% {\n",
              "      border-color: transparent;\n",
              "      border-right-color: var(--fill-color);\n",
              "    }\n",
              "    80% {\n",
              "      border-color: transparent;\n",
              "      border-right-color: var(--fill-color);\n",
              "      border-bottom-color: var(--fill-color);\n",
              "    }\n",
              "    90% {\n",
              "      border-color: transparent;\n",
              "      border-bottom-color: var(--fill-color);\n",
              "    }\n",
              "  }\n",
              "</style>\n",
              "\n",
              "  <script>\n",
              "    async function quickchart(key) {\n",
              "      const quickchartButtonEl =\n",
              "        document.querySelector('#' + key + ' button');\n",
              "      quickchartButtonEl.disabled = true;  // To prevent multiple clicks.\n",
              "      quickchartButtonEl.classList.add('colab-df-spinner');\n",
              "      try {\n",
              "        const charts = await google.colab.kernel.invokeFunction(\n",
              "            'suggestCharts', [key], {});\n",
              "      } catch (error) {\n",
              "        console.error('Error during call to suggestCharts:', error);\n",
              "      }\n",
              "      quickchartButtonEl.classList.remove('colab-df-spinner');\n",
              "      quickchartButtonEl.classList.add('colab-df-quickchart-complete');\n",
              "    }\n",
              "    (() => {\n",
              "      let quickchartButtonEl =\n",
              "        document.querySelector('#df-e6909e9f-0a4d-43c1-bc3b-a2845f7d5a12 button');\n",
              "      quickchartButtonEl.style.display =\n",
              "        google.colab.kernel.accessAllowed ? 'block' : 'none';\n",
              "    })();\n",
              "  </script>\n",
              "</div>\n",
              "\n",
              "    </div>\n",
              "  </div>\n"
            ],
            "application/vnd.google.colaboratory.intrinsic+json": {
              "type": "dataframe",
              "variable_name": "df"
            }
          },
          "metadata": {},
          "execution_count": 24
        }
      ]
    },
    {
      "cell_type": "code",
      "source": [
        "df_train = df.copy()"
      ],
      "metadata": {
        "id": "esB0fqQQRo3S"
      },
      "execution_count": null,
      "outputs": []
    },
    {
      "cell_type": "markdown",
      "source": [
        "## **Data Loading**"
      ],
      "metadata": {
        "id": "ctMjF0GhHgsm"
      }
    },
    {
      "cell_type": "markdown",
      "source": [
        "### **Configuration**"
      ],
      "metadata": {
        "id": "4SDzqFRLIr2G"
      }
    },
    {
      "cell_type": "code",
      "source": [
        "tokenizer.encode(\"[END]\")"
      ],
      "metadata": {
        "colab": {
          "base_uri": "https://localhost:8080/"
        },
        "id": "HPlKKrhAJjkM",
        "outputId": "2425d5e3-2f72-44b2-c927-390bfca16594"
      },
      "execution_count": null,
      "outputs": [
        {
          "output_type": "execute_result",
          "data": {
            "text/plain": [
              "[50259]"
            ]
          },
          "metadata": {},
          "execution_count": 25
        }
      ]
    },
    {
      "cell_type": "code",
      "source": [
        "src_vocab_size = 50260 # After adding special tokens to tokenizer\n",
        "tgt_vocab_size = 50260 # After adding special tokens to tokenizer\n",
        "max_length = 128 # Max Context legth (How muuc text model can process at once)\n",
        "d_model = 512 # Dimension of model\n",
        "num_heads = 8 # Number of heads in attention\n",
        "num_layers = 6 # Number of blocks: 6 encoder and 6 decoder\n",
        "d_ff = 2048 # Dimention of Feed Forward layer\n",
        "dropout = 0.1 # Dropout\n",
        "batch_size = 32 # Change this based on your device. Making it power of 2 numbers is good"
      ],
      "metadata": {
        "id": "YaGVugRSIuUC"
      },
      "execution_count": null,
      "outputs": []
    },
    {
      "cell_type": "code",
      "source": [
        "english_sentences = []\n",
        "uzbek_sentences = []\n",
        "\n",
        "for i in range(len(df_train)):\n",
        "    english_sentences.append(df_train['Source'][i])\n",
        "    uzbek_sentences.append(df_train['Target'][i])"
      ],
      "metadata": {
        "id": "FA894hcoKROm"
      },
      "execution_count": null,
      "outputs": []
    },
    {
      "cell_type": "code",
      "source": [
        "class TranslationDataset(Dataset):\n",
        "    def __init__(self, english_sentences, uzbek_sentences, tokenizer, max_length):\n",
        "        self.english_sentences = english_sentences\n",
        "        self.uzbek_sentences = uzbek_sentences\n",
        "        self.tokenizer = tokenizer\n",
        "        self.max_length = max_length\n",
        "\n",
        "    def __len__(self):\n",
        "        return len(self.english_sentences)\n",
        "\n",
        "    def __getitem__(self, idx):\n",
        "        # Tokenize and encode sentences\n",
        "        en_encoded = self.tokenizer(\n",
        "            self.english_sentences[idx],\n",
        "            return_tensors=\"pt\",\n",
        "            padding=\"max_length\",\n",
        "            truncation=True,\n",
        "            max_length=self.max_length\n",
        "        )[\"input_ids\"].squeeze(0)\n",
        "\n",
        "        uz_encoded = self.tokenizer(\n",
        "            self.uzbek_sentences[idx],\n",
        "            return_tensors=\"pt\",\n",
        "            padding=\"max_length\",\n",
        "            truncation=True,\n",
        "            max_length=self.max_length\n",
        "        )[\"input_ids\"].squeeze(0)\n",
        "\n",
        "        return en_encoded, uz_encoded"
      ],
      "metadata": {
        "id": "WVZ2i8m6KV3W"
      },
      "execution_count": null,
      "outputs": []
    },
    {
      "cell_type": "code",
      "source": [
        "dataset = TranslationDataset(english_sentences, uzbek_sentences, tokenizer, max_length)\n",
        "dataloader = DataLoader(dataset, batch_size, shuffle=True)"
      ],
      "metadata": {
        "id": "OHx45rwuKjVT"
      },
      "execution_count": null,
      "outputs": []
    },
    {
      "cell_type": "code",
      "source": [
        "for batch in dataloader:\n",
        "    en_data, uz_data = batch\n",
        "    print(en_data)\n",
        "    print(uz_data)\n",
        "    break"
      ],
      "metadata": {
        "colab": {
          "base_uri": "https://localhost:8080/"
        },
        "id": "ZYpn5VupMyig",
        "outputId": "64d90920-5a16-48b8-c63f-e4144c55b654"
      },
      "execution_count": null,
      "outputs": [
        {
          "output_type": "stream",
          "name": "stdout",
          "text": [
            "tensor([[50258,   317, 10595,  ..., 50257, 50257, 50257],\n",
            "        [50258, 14444,   284,  ..., 50257, 50257, 50257],\n",
            "        [50258,  4186,  8041,  ..., 50257, 50257, 50257],\n",
            "        ...,\n",
            "        [50258,   554,  5472,  ..., 50257, 50257, 50257],\n",
            "        [50258, 11450,   339,  ..., 50257, 50257, 50257],\n",
            "        [50258,   352,   362,  ..., 50257, 50257, 50257]])\n",
            "tensor([[50258,  2930,  8482,  ..., 50257, 50257, 50257],\n",
            "        [50258,   575,   333,  ..., 50257, 50257, 50257],\n",
            "        [50258,  4186,  8041,  ..., 50257, 50257, 50257],\n",
            "        ...,\n",
            "        [50258,  5472,    12,  ..., 50257, 50257, 50257],\n",
            "        [50258,  7383,  8589,  ..., 50257, 50257, 50257],\n",
            "        [50258,  7823, 12771,  ..., 50257, 50257, 50257]])\n"
          ]
        }
      ]
    },
    {
      "cell_type": "markdown",
      "source": [
        "### **Encoder**\n",
        "- **Input**: The entire input sequence.  \n",
        "  Example: `\"I love apples\"`\n",
        "  \n",
        "- **Process**:  \n",
        "  The encoder processes the entire sequence at once, using self-attention and feed-forward layers to capture the contextual meaning of the input. Each token attends to every other token, creating contextual embeddings.\n",
        "\n",
        "- **Output**:  \n",
        "  Contextual embeddings for the input tokens:  \n",
        "  `[C(\"I\"), C(\"love\"), C(\"apples\")]`"
      ],
      "metadata": {
        "id": "Gp9TL45HdCSv"
      }
    },
    {
      "cell_type": "markdown",
      "source": [
        "### **Decoder**\n",
        "- **Input**: The target sequence, shifted one unit to the right.  \n",
        "  Example: `<start> Men olmalarni yaxshi ko'raman <end>`\n",
        "\n",
        "- **Process**:  \n",
        "  The decoder generates the target sequence **step-by-step**, using the encoder’s output (contextual embeddings) and the tokens it has seen so far.\n",
        "\n",
        "#### **Step-by-Step Processing in the Decoder**:\n",
        "1. **Step 1**:  \n",
        "   - Input: `<start>`  \n",
        "   - Output: Predicts `\"Men\"` (the first token in the target sequence).\n",
        "\n",
        "2. **Step 2**:  \n",
        "   - Input: `<start> Men`  \n",
        "   - Output: Predicts `\"olmalarni\"` (the second token in the target sequence).\n",
        "\n",
        "3. **Step 3**:  \n",
        "   - Input: `<start> Men olmalarni`  \n",
        "   - Output: Predicts `\"yaxshi\"` (the third token in the target sequence).\n",
        "\n",
        "4. **Step 4**:  \n",
        "   - Input: `<start> Men olmalarni yaxshi`  \n",
        "   - Output: Predicts `\"ko'raman\"` (the fourth token in the target sequence).\n",
        "\n",
        "5. **Step 5**:  \n",
        "   - Input: `<start> Men olmalarni yaxshi ko'raman`  \n",
        "   - Output: Predicts `<end>` (to indicate the end of the sequence).\n",
        "\n",
        "- **Final Output**:  \n",
        "  `<start> Men olmalarni yaxshi ko'raman <end>`"
      ],
      "metadata": {
        "id": "ZcCZVVxwdHsA"
      }
    },
    {
      "cell_type": "markdown",
      "source": [
        "## **Multi Head Attention**"
      ],
      "metadata": {
        "id": "0I553-RULY0T"
      }
    },
    {
      "cell_type": "code",
      "source": [
        "class MultiHeadAttention(nn.Module):\n",
        "    def __init__(self, d_model, num_heads):\n",
        "        super(MultiHeadAttention, self).__init__()\n",
        "        assert d_model % num_heads == 0, \"d_model must be divisible by num_heads\"\n",
        "\n",
        "        self.d_model = d_model\n",
        "        self.num_heads = num_heads\n",
        "        self.d_k = d_model // num_heads\n",
        "        self.W_q = nn.Linear(d_model, d_model)\n",
        "        self.W_k = nn.Linear(d_model, d_model)\n",
        "        self.W_v = nn.Linear(d_model, d_model)\n",
        "        self.W_o = nn.Linear(d_model, d_model)\n",
        "\n",
        "    def scaled_dot_product_attention(self, Q, K, V, mask=None):\n",
        "        attn_scores = torch.matmul(Q, K.transpose(-2, -1)) / math.sqrt(self.d_k)\n",
        "        if mask is not None:\n",
        "            attn_scores = attn_scores.masked_fill(mask == 0, -1e9)\n",
        "        attn_probs = torch.softmax(attn_scores, dim=-1)\n",
        "        output = torch.matmul(attn_probs, V)\n",
        "        return output\n",
        "\n",
        "    def split_heads(self, x):\n",
        "        batch_size, seq_length, d_model = x.size()\n",
        "        return x.view(batch_size, seq_length, self.num_heads, self.d_k).transpose(1, 2)\n",
        "\n",
        "    def combine_heads(self, x):\n",
        "        batch_size, _, seq_length, d_k = x.size()\n",
        "        return x.transpose(1, 2).contiguous().view(batch_size, seq_length, self.d_model)\n",
        "\n",
        "    def forward(self, Q, K, V, mask=None):\n",
        "        Q = self.split_heads(self.W_q(Q))\n",
        "        K = self.split_heads(self.W_k(K))\n",
        "        V = self.split_heads(self.W_v(V))\n",
        "        attn_output = self.scaled_dot_product_attention(Q, K, V, mask)\n",
        "        output = self.W_o(self.combine_heads(attn_output))\n",
        "        return output"
      ],
      "metadata": {
        "id": "ckBR1pb4dYwF"
      },
      "execution_count": null,
      "outputs": []
    },
    {
      "cell_type": "markdown",
      "source": [
        "![image.png](data:image/png;base64,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)"
      ],
      "metadata": {
        "id": "uD4c7N62jmWG"
      }
    },
    {
      "cell_type": "markdown",
      "source": [
        "## **Feed Forward**"
      ],
      "metadata": {
        "id": "8cgOHw69Lmmu"
      }
    },
    {
      "cell_type": "code",
      "source": [
        "class PositionWiseFeedForward(nn.Module):\n",
        "    def __init__(self, d_model, d_ff):\n",
        "        super(PositionWiseFeedForward, self).__init__()\n",
        "        self.fc1 = nn.Linear(d_model, d_ff)\n",
        "        self.fc2 = nn.Linear(d_ff, d_model)\n",
        "        self.relu = nn.ReLU()\n",
        "\n",
        "    def forward(self, x):\n",
        "        return self.fc2(self.relu(self.fc1(x)))"
      ],
      "metadata": {
        "id": "NlVMSqHGLnCp"
      },
      "execution_count": null,
      "outputs": []
    },
    {
      "cell_type": "markdown",
      "source": [
        "## **Positional Encoding**"
      ],
      "metadata": {
        "id": "H-VjcNvNLrMQ"
      }
    },
    {
      "cell_type": "code",
      "source": [
        "class PositionalEncoding(nn.Module):\n",
        "    def __init__(self, d_model, max_seq_length):\n",
        "        super(PositionalEncoding, self).__init__()\n",
        "\n",
        "        pe = torch.zeros(max_seq_length, d_model)\n",
        "        position = torch.arange(0, max_seq_length, dtype=torch.float).unsqueeze(1)\n",
        "        div_term = torch.exp(torch.arange(0, d_model, 2).float() * -(math.log(10000.0) / d_model))\n",
        "\n",
        "        pe[:, 0::2] = torch.sin(position * div_term)\n",
        "        pe[:, 1::2] = torch.cos(position * div_term)\n",
        "\n",
        "        self.register_buffer('pe', pe.unsqueeze(0))\n",
        "\n",
        "    def forward(self, x):\n",
        "        return x + self.pe[:, :x.size(1)]"
      ],
      "metadata": {
        "id": "f8teP7lzLof1"
      },
      "execution_count": null,
      "outputs": []
    },
    {
      "cell_type": "markdown",
      "source": [
        "## **Encoder**"
      ],
      "metadata": {
        "id": "stD_mG5xLuTt"
      }
    },
    {
      "cell_type": "code",
      "source": [
        "class EncoderLayer(nn.Module):\n",
        "    def __init__(self, d_model, num_heads, d_ff, dropout):\n",
        "        super(EncoderLayer, self).__init__()\n",
        "        self.self_attn = MultiHeadAttention(d_model, num_heads)\n",
        "        self.feed_forward = PositionWiseFeedForward(d_model, d_ff)\n",
        "        self.norm1 = nn.LayerNorm(d_model)\n",
        "        self.norm2 = nn.LayerNorm(d_model)\n",
        "        self.dropout = nn.Dropout(dropout)\n",
        "\n",
        "    def forward(self, x, mask):\n",
        "        attn_output = self.self_attn(x, x, x, mask)\n",
        "        x = self.norm1(x + self.dropout(attn_output))\n",
        "        ff_output = self.feed_forward(x)\n",
        "        x = self.norm2(x + self.dropout(ff_output))\n",
        "        return x"
      ],
      "metadata": {
        "id": "ccSMLNQ1Lvqy"
      },
      "execution_count": null,
      "outputs": []
    },
    {
      "cell_type": "markdown",
      "source": [
        "## **Decoder**"
      ],
      "metadata": {
        "id": "EuIm0TUYLwj3"
      }
    },
    {
      "cell_type": "code",
      "source": [
        "class DecoderLayer(nn.Module):\n",
        "    def __init__(self, d_model, num_heads, d_ff, dropout):\n",
        "        super(DecoderLayer, self).__init__()\n",
        "        self.self_attn = MultiHeadAttention(d_model, num_heads)\n",
        "        self.cross_attn = MultiHeadAttention(d_model, num_heads)\n",
        "        self.feed_forward = PositionWiseFeedForward(d_model, d_ff)\n",
        "        self.norm1 = nn.LayerNorm(d_model)\n",
        "        self.norm2 = nn.LayerNorm(d_model)\n",
        "        self.norm3 = nn.LayerNorm(d_model)\n",
        "        self.dropout = nn.Dropout(dropout)\n",
        "\n",
        "    def forward(self, x, enc_output, src_mask, tgt_mask):\n",
        "        attn_output = self.self_attn(x, x, x, tgt_mask)\n",
        "        x = self.norm1(x + self.dropout(attn_output))\n",
        "        attn_output = self.cross_attn(x, enc_output, enc_output, src_mask)\n",
        "        x = self.norm2(x + self.dropout(attn_output))\n",
        "        ff_output = self.feed_forward(x)\n",
        "        x = self.norm3(x + self.dropout(ff_output))\n",
        "        return x"
      ],
      "metadata": {
        "id": "FvLgqOw9Lv__"
      },
      "execution_count": null,
      "outputs": []
    },
    {
      "cell_type": "markdown",
      "source": [
        "## **Architecture**"
      ],
      "metadata": {
        "id": "zHV3YHucL1vV"
      }
    },
    {
      "cell_type": "code",
      "source": [
        "class Transformer(nn.Module):\n",
        "    def __init__(self, src_vocab_size, tgt_vocab_size, d_model, num_heads, num_layers, d_ff, max_seq_length, dropout):\n",
        "        super(Transformer, self).__init__()\n",
        "        self.encoder_embedding = nn.Embedding(src_vocab_size, d_model)\n",
        "        self.decoder_embedding = nn.Embedding(tgt_vocab_size, d_model)\n",
        "        self.positional_encoding = PositionalEncoding(d_model, max_seq_length)\n",
        "\n",
        "        self.encoder_layers = nn.ModuleList([EncoderLayer(d_model, num_heads, d_ff, dropout) for _ in range(num_layers)])\n",
        "        self.decoder_layers = nn.ModuleList([DecoderLayer(d_model, num_heads, d_ff, dropout) for _ in range(num_layers)])\n",
        "\n",
        "        self.fc = nn.Linear(d_model, tgt_vocab_size)\n",
        "        self.dropout = nn.Dropout(dropout)\n",
        "\n",
        "    def generate_mask(self, src, tgt):\n",
        "        src_mask = (src != 0).unsqueeze(1).unsqueeze(2).to(src.device)\n",
        "        tgt_mask = (tgt != 0).unsqueeze(1).unsqueeze(3).to(tgt.device)\n",
        "        seq_length = tgt.size(1)\n",
        "        nopeak_mask = (1 - torch.triu(torch.ones(1, seq_length, seq_length, device=tgt.device), diagonal=1)).bool()\n",
        "        tgt_mask = tgt_mask & nopeak_mask\n",
        "        return src_mask, tgt_mask\n",
        "\n",
        "    def forward(self, src, tgt):\n",
        "        src_mask, tgt_mask = self.generate_mask(src, tgt)\n",
        "        src_embedded = self.dropout(self.positional_encoding(self.encoder_embedding(src)))\n",
        "        tgt_embedded = self.dropout(self.positional_encoding(self.decoder_embedding(tgt)))\n",
        "\n",
        "        enc_output = src_embedded\n",
        "        for enc_layer in self.encoder_layers:\n",
        "            enc_output = enc_layer(enc_output, src_mask)\n",
        "\n",
        "        dec_output = tgt_embedded\n",
        "        for dec_layer in self.decoder_layers:\n",
        "            dec_output = dec_layer(dec_output, enc_output, src_mask, tgt_mask)\n",
        "\n",
        "        output = self.fc(dec_output)\n",
        "        return output"
      ],
      "metadata": {
        "id": "ky54zEhfL0H_"
      },
      "execution_count": null,
      "outputs": []
    },
    {
      "cell_type": "markdown",
      "source": [
        "## **Training**"
      ],
      "metadata": {
        "id": "sixp1IznL9gT"
      }
    },
    {
      "cell_type": "code",
      "source": [
        "transformer = Transformer(src_vocab_size+1, tgt_vocab_size+1, d_model, num_heads, num_layers, d_ff, max_length, dropout)"
      ],
      "metadata": {
        "id": "E2TAgoSDL8Or"
      },
      "execution_count": null,
      "outputs": []
    },
    {
      "cell_type": "code",
      "source": [
        "criterion = nn.CrossEntropyLoss(ignore_index=50257)  # Ignore padding token\n",
        "optimizer = optim.Adam(transformer.parameters(), lr=0.0001, betas=(0.9, 0.98), eps=1e-9)"
      ],
      "metadata": {
        "id": "L9nd9KTFMCUv"
      },
      "execution_count": null,
      "outputs": []
    },
    {
      "cell_type": "markdown",
      "source": [
        "### **Sample Dataset Training**"
      ],
      "metadata": {
        "id": "DNmkpKtwMMqU"
      }
    },
    {
      "cell_type": "code",
      "source": [
        "print(len(dataloader))"
      ],
      "metadata": {
        "id": "fFCEb-quS745",
        "colab": {
          "base_uri": "https://localhost:8080/"
        },
        "outputId": "229e143d-1b17-4eb3-effc-f66805395267"
      },
      "execution_count": null,
      "outputs": [
        {
          "output_type": "stream",
          "name": "stdout",
          "text": [
            "28102\n"
          ]
        }
      ]
    },
    {
      "cell_type": "code",
      "source": [
        "transformer.train()\n",
        "max_batches = 100  # Number of batches to train on\n",
        "\n",
        "for epoch in range(3):\n",
        "    total_loss = 0\n",
        "    batch_count = 0  # Initialize batch counter\n",
        "    progress_bar = tqdm(dataloader, desc=f\"Epoch {epoch+1}\", total=max_batches)\n",
        "\n",
        "    for batch in progress_bar:\n",
        "        if batch_count >= max_batches:\n",
        "            break  # Stop after processing 1000 batches\n",
        "\n",
        "        src_data, tgt_data = batch\n",
        "        transformer.to(device)\n",
        "        src_data, tgt_data = src_data.to(device), tgt_data.to(device)\n",
        "\n",
        "        optimizer.zero_grad()\n",
        "        output = transformer(src_data, tgt_data[:, :-1])\n",
        "        loss = criterion(output.contiguous().view(-1, output.size(-1)), tgt_data[:, 1:].contiguous().view(-1))\n",
        "        loss.backward()\n",
        "        optimizer.step()\n",
        "        total_loss += loss.item()\n",
        "        batch_count += 1\n",
        "\n",
        "        # Update the progress bar with the current loss\n",
        "        progress_bar.set_postfix(loss=loss.item())\n",
        "\n",
        "    print(f\"Epoch {epoch+1}, Average Loss: {total_loss / batch_count:.4f}\")"
      ],
      "metadata": {
        "colab": {
          "base_uri": "https://localhost:8080/"
        },
        "id": "3TER2dH8MQJM",
        "outputId": "464b1cbf-b4a4-4537-d606-3e359bfe9764"
      },
      "execution_count": null,
      "outputs": [
        {
          "output_type": "stream",
          "name": "stderr",
          "text": [
            "Epoch 1: 100%|██████████| 100/100 [01:00<00:00,  1.66it/s, loss=5.63]\n"
          ]
        },
        {
          "output_type": "stream",
          "name": "stdout",
          "text": [
            "Epoch 1, Average Loss: 7.0509\n"
          ]
        },
        {
          "output_type": "stream",
          "name": "stderr",
          "text": [
            "Epoch 2: 100%|██████████| 100/100 [01:01<00:00,  1.64it/s, loss=5.08]\n"
          ]
        },
        {
          "output_type": "stream",
          "name": "stdout",
          "text": [
            "Epoch 2, Average Loss: 5.1173\n"
          ]
        },
        {
          "output_type": "stream",
          "name": "stderr",
          "text": [
            "Epoch 3: 100%|██████████| 100/100 [01:02<00:00,  1.60it/s, loss=4.52]"
          ]
        },
        {
          "output_type": "stream",
          "name": "stdout",
          "text": [
            "Epoch 3, Average Loss: 4.7001\n"
          ]
        },
        {
          "output_type": "stream",
          "name": "stderr",
          "text": [
            "\n"
          ]
        }
      ]
    },
    {
      "cell_type": "markdown",
      "source": [
        "### **Full training**"
      ],
      "metadata": {
        "id": "TkRc5Yd6MHlt"
      }
    },
    {
      "cell_type": "code",
      "source": [
        "transformer.train()\n",
        "for epoch in range(2):\n",
        "    total_loss = 0\n",
        "    for batch in tqdm(dataloader, desc=f\"Epoch {epoch+1}\"):\n",
        "        src_data, tgt_data = batch\n",
        "        transformer.to(device)\n",
        "        src_data, tgt_data = src_data.to(device), tgt_data.to(device)\n",
        "\n",
        "        optimizer.zero_grad()\n",
        "        output = transformer(src_data, tgt_data[:, :-1])\n",
        "        loss = criterion(output.contiguous().view(-1, output.size(-1)),tgt_data[:, 1:].contiguous().view(-1))\n",
        "        loss.backward()\n",
        "        optimizer.step()\n",
        "        total_loss += loss.item()\n",
        "\n",
        "    print(f\"Epoch {epoch+1}, Loss: {loss.item()}\")"
      ],
      "metadata": {
        "colab": {
          "base_uri": "https://localhost:8080/",
          "height": 238
        },
        "id": "WKuBeHQWMKmZ",
        "outputId": "10879511-15eb-4ee8-9af3-0fe3603a0a10"
      },
      "execution_count": null,
      "outputs": [
        {
          "output_type": "stream",
          "name": "stderr",
          "text": [
            "Epoch 1:   0%|          | 18/28102 [00:11<5:05:45,  1.53it/s]\n"
          ]
        },
        {
          "output_type": "error",
          "ename": "KeyboardInterrupt",
          "evalue": "",
          "traceback": [
            "\u001b[0;31m---------------------------------------------------------------------------\u001b[0m",
            "\u001b[0;31mKeyboardInterrupt\u001b[0m                         Traceback (most recent call last)",
            "\u001b[0;32m<ipython-input-53-ace5a4a2469e>\u001b[0m in \u001b[0;36m<cell line: 0>\u001b[0;34m()\u001b[0m\n\u001b[1;32m     12\u001b[0m         \u001b[0mloss\u001b[0m\u001b[0;34m.\u001b[0m\u001b[0mbackward\u001b[0m\u001b[0;34m(\u001b[0m\u001b[0;34m)\u001b[0m\u001b[0;34m\u001b[0m\u001b[0;34m\u001b[0m\u001b[0m\n\u001b[1;32m     13\u001b[0m         \u001b[0moptimizer\u001b[0m\u001b[0;34m.\u001b[0m\u001b[0mstep\u001b[0m\u001b[0;34m(\u001b[0m\u001b[0;34m)\u001b[0m\u001b[0;34m\u001b[0m\u001b[0;34m\u001b[0m\u001b[0m\n\u001b[0;32m---> 14\u001b[0;31m         \u001b[0mtotal_loss\u001b[0m \u001b[0;34m+=\u001b[0m \u001b[0mloss\u001b[0m\u001b[0;34m.\u001b[0m\u001b[0mitem\u001b[0m\u001b[0;34m(\u001b[0m\u001b[0;34m)\u001b[0m\u001b[0;34m\u001b[0m\u001b[0;34m\u001b[0m\u001b[0m\n\u001b[0m\u001b[1;32m     15\u001b[0m \u001b[0;34m\u001b[0m\u001b[0m\n\u001b[1;32m     16\u001b[0m     \u001b[0mprint\u001b[0m\u001b[0;34m(\u001b[0m\u001b[0;34mf\"Epoch {epoch+1}, Loss: {loss.item()}\"\u001b[0m\u001b[0;34m)\u001b[0m\u001b[0;34m\u001b[0m\u001b[0;34m\u001b[0m\u001b[0m\n",
            "\u001b[0;31mKeyboardInterrupt\u001b[0m: "
          ]
        }
      ]
    },
    {
      "cell_type": "code",
      "source": [
        "total_params = sum(p.numel() for p in transformer.parameters())\n",
        "trainable_params = sum(p.numel() for p in transformer.parameters() if p.requires_grad)\n",
        "\n",
        "print(f\"Total Parameters: {total_params}\")\n",
        "print(f\"Trainable Parameters: {trainable_params}\")"
      ],
      "metadata": {
        "colab": {
          "base_uri": "https://localhost:8080/"
        },
        "id": "qv0PElliYcou",
        "outputId": "a1d0b849-dc8a-4d71-dceb-04bcb870ea17"
      },
      "execution_count": null,
      "outputs": [
        {
          "output_type": "stream",
          "name": "stdout",
          "text": [
            "Total Parameters: 121389653\n",
            "Trainable Parameters: 121389653\n"
          ]
        }
      ]
    },
    {
      "cell_type": "markdown",
      "source": [
        "### **Inference**"
      ],
      "metadata": {
        "id": "ecSrvaV9MZOI"
      }
    },
    {
      "cell_type": "code",
      "source": [
        "max_length = 128"
      ],
      "metadata": {
        "id": "-gRirN4iS5_x"
      },
      "execution_count": null,
      "outputs": []
    },
    {
      "cell_type": "code",
      "source": [
        "new_text = \"Hello my name is Dovud.\"\n",
        "\n",
        "input_ids = tokenizer(\n",
        "    new_text,\n",
        "    return_tensors=\"pt\",\n",
        "    padding=\"max_length\",\n",
        "    truncation=True,\n",
        "    max_length=max_length\n",
        ")[\"input_ids\"].to(device)\n",
        "\n",
        "transformer.eval()\n",
        "tgt_ids = torch.tensor([[tokenizer.bos_token_id]], device=device)\n",
        "for _ in range(max_length):\n",
        "    with torch.no_grad():\n",
        "        output_ids = transformer(input_ids, tgt_ids)\n",
        "    next_token_id = output_ids[:, -1, :].argmax(dim=-1).item()\n",
        "    tgt_ids = torch.cat([tgt_ids, torch.tensor([[next_token_id]], device=device)], dim=1)\n",
        "\n",
        "    # Stop generating if end token is predicted\n",
        "    if next_token_id == tokenizer.eos_token_id:\n",
        "        break\n",
        "decoded_output = tokenizer.decode(tgt_ids[0], skip_special_tokens=True)\n",
        "print(\"Input:\", new_text)\n",
        "print(\"Output:\", decoded_output)"
      ],
      "metadata": {
        "colab": {
          "base_uri": "https://localhost:8080/"
        },
        "id": "e71doUYtMiGE",
        "outputId": "674eb01f-c282-4d7f-c457-e28f2e5f133c"
      },
      "execution_count": null,
      "outputs": [
        {
          "output_type": "stream",
          "name": "stdout",
          "text": [
            "Input: Hello my name is Dovud.\n",
            "Output:  Qaraldi:  \n"
          ]
        }
      ]
    },
    {
      "cell_type": "code",
      "source": [
        "tokenizer.encode(decoded_output)"
      ],
      "metadata": {
        "colab": {
          "base_uri": "https://localhost:8080/"
        },
        "id": "0VaSUtpyQzyN",
        "outputId": "af67d947-d0b5-4263-dff6-914ca9d4a0ed"
      },
      "execution_count": null,
      "outputs": [
        {
          "output_type": "execute_result",
          "data": {
            "text/plain": [
              "[1195, 283, 37566, 25, 220, 220]"
            ]
          },
          "metadata": {},
          "execution_count": 55
        }
      ]
    },
    {
      "cell_type": "code",
      "source": [
        "tokenizer.decode(tokenizer.eos_token_id)"
      ],
      "metadata": {
        "colab": {
          "base_uri": "https://localhost:8080/",
          "height": 36
        },
        "id": "AS7GcedShbta",
        "outputId": "384349d3-4a9a-4be3-9c94-409a05e94e4f"
      },
      "execution_count": null,
      "outputs": [
        {
          "output_type": "execute_result",
          "data": {
            "text/plain": [
              "'[END]'"
            ],
            "application/vnd.google.colaboratory.intrinsic+json": {
              "type": "string"
            }
          },
          "metadata": {},
          "execution_count": 56
        }
      ]
    },
    {
      "cell_type": "code",
      "source": [],
      "metadata": {
        "id": "oqWX_s0BiQEf"
      },
      "execution_count": null,
      "outputs": []
    }
  ]
}